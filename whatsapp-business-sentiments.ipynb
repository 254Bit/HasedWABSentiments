{
 "cells": [
  {
   "cell_type": "code",
   "execution_count": 1,
   "id": "5cb3fa48",
   "metadata": {
    "_cell_guid": "b1076dfc-b9ad-4769-8c92-a6c4dae69d19",
    "_uuid": "8f2839f25d086af736a60e9eeb907d3b93b6e0e5",
    "execution": {
     "iopub.execute_input": "2024-03-22T13:17:26.903385Z",
     "iopub.status.busy": "2024-03-22T13:17:26.902726Z",
     "iopub.status.idle": "2024-03-22T13:17:27.926548Z",
     "shell.execute_reply": "2024-03-22T13:17:27.924769Z"
    },
    "papermill": {
     "duration": 1.034275,
     "end_time": "2024-03-22T13:17:27.929489",
     "exception": false,
     "start_time": "2024-03-22T13:17:26.895214",
     "status": "completed"
    },
    "tags": []
   },
   "outputs": [],
   "source": [
    "# This Python 3 environment comes with many helpful analytics libraries installed\n",
    "# It is defined by the kaggle/python Docker image: https://github.com/kaggle/docker-python\n",
    "# For example, here's several helpful packages to load\n",
    "\n",
    "import numpy as np # linear algebra\n",
    "import pandas as pd # data processing, CSV file I/O (e.g. pd.read_csv)\n",
    "pd.options.mode.chained_assignment = None  # default='warn'\n",
    "\n",
    "# Input data files are available in the read-only \"../input/\" directory\n",
    "# For example, running this (by clicking run or pressing Shift+Enter) will list all files under the input directory\n",
    "\n",
    "import os\n",
    "for dirname, _, filenames in os.walk('/kaggle/input/'):\n",
    "    for filename in filenames:\n",
    "        print(os.path.join(dirname, filename))\n",
    "\n",
    "# You can write up to 20GB to the current directory (/kaggle/working/) that gets preserved as output when you create a version using \"Save & Run All\" \n",
    "# You can also write temporary files to /kaggle/temp/, but they won't be saved outside of the current session\n"
   ]
  },
  {
   "cell_type": "code",
   "execution_count": 2,
   "id": "da26ae7b",
   "metadata": {
    "execution": {
     "iopub.execute_input": "2024-03-22T13:17:27.944309Z",
     "iopub.status.busy": "2024-03-22T13:17:27.943779Z",
     "iopub.status.idle": "2024-03-22T13:17:27.981044Z",
     "shell.execute_reply": "2024-03-22T13:17:27.980387Z"
    },
    "papermill": {
     "duration": 0.046933,
     "end_time": "2024-03-22T13:17:27.983168",
     "exception": false,
     "start_time": "2024-03-22T13:17:27.936235",
     "status": "completed"
    },
    "tags": []
   },
   "outputs": [],
   "source": [
    "data = pd.read_csv('/kaggle/input/whatsapp-business-reviews-app-store/hashed_wab_reviews.csv')"
   ]
  },
  {
   "cell_type": "code",
   "execution_count": 3,
   "id": "149ec429",
   "metadata": {
    "execution": {
     "iopub.execute_input": "2024-03-22T13:17:27.996464Z",
     "iopub.status.busy": "2024-03-22T13:17:27.995331Z",
     "iopub.status.idle": "2024-03-22T13:17:28.016735Z",
     "shell.execute_reply": "2024-03-22T13:17:28.015516Z"
    },
    "papermill": {
     "duration": 0.029872,
     "end_time": "2024-03-22T13:17:28.018679",
     "exception": false,
     "start_time": "2024-03-22T13:17:27.988807",
     "status": "completed"
    },
    "tags": []
   },
   "outputs": [
    {
     "data": {
      "text/html": [
       "<div>\n",
       "<style scoped>\n",
       "    .dataframe tbody tr th:only-of-type {\n",
       "        vertical-align: middle;\n",
       "    }\n",
       "\n",
       "    .dataframe tbody tr th {\n",
       "        vertical-align: top;\n",
       "    }\n",
       "\n",
       "    .dataframe thead th {\n",
       "        text-align: right;\n",
       "    }\n",
       "</style>\n",
       "<table border=\"1\" class=\"dataframe\">\n",
       "  <thead>\n",
       "    <tr style=\"text-align: right;\">\n",
       "      <th></th>\n",
       "      <th>id</th>\n",
       "      <th>date</th>\n",
       "      <th>userName</th>\n",
       "      <th>userUrl</th>\n",
       "      <th>version</th>\n",
       "      <th>score</th>\n",
       "      <th>title</th>\n",
       "      <th>text</th>\n",
       "      <th>url</th>\n",
       "      <th>country</th>\n",
       "      <th>appId</th>\n",
       "    </tr>\n",
       "  </thead>\n",
       "  <tbody>\n",
       "    <tr>\n",
       "      <th>0</th>\n",
       "      <td>10990027692</td>\n",
       "      <td>2024-02-28T13:15:16-07:00</td>\n",
       "      <td>a71209417cc69068db96287dcfa258e84a19b36c443521...</td>\n",
       "      <td>c6434d50f03dc3225343d08cb75b120e19dc21937007da...</td>\n",
       "      <td>24.4.78</td>\n",
       "      <td>1</td>\n",
       "      <td>Status sounds</td>\n",
       "      <td>No sound comes from status videos after I upda...</td>\n",
       "      <td>https://itunes.apple.com/au/review?id=13864129...</td>\n",
       "      <td>AU</td>\n",
       "      <td>1386412985</td>\n",
       "    </tr>\n",
       "    <tr>\n",
       "      <th>1</th>\n",
       "      <td>10939311897</td>\n",
       "      <td>2024-02-14T14:47:02-07:00</td>\n",
       "      <td>9f7302dde70e971b057aa14cec1d26479a9362da32e9ed...</td>\n",
       "      <td>55105d432b1d6c664523f5de2576a199f8ffa8d8c20e8a...</td>\n",
       "      <td>24.3.76</td>\n",
       "      <td>2</td>\n",
       "      <td>Calls</td>\n",
       "      <td>Every time I’m on a phone call, it either cut ...</td>\n",
       "      <td>https://itunes.apple.com/au/review?id=13864129...</td>\n",
       "      <td>AU</td>\n",
       "      <td>1386412985</td>\n",
       "    </tr>\n",
       "    <tr>\n",
       "      <th>2</th>\n",
       "      <td>10932303253</td>\n",
       "      <td>2024-02-12T15:54:56-07:00</td>\n",
       "      <td>ee939200223a21c2bdea5d17ef0ae2d9a03acfbb914c73...</td>\n",
       "      <td>1c044d9599692ebd0d50f4fb8d886f622ee02c549d76f8...</td>\n",
       "      <td>24.3.76</td>\n",
       "      <td>4</td>\n",
       "      <td>Recommendations</td>\n",
       "      <td>I like being to have a separate account/app fo...</td>\n",
       "      <td>https://itunes.apple.com/au/review?id=13864129...</td>\n",
       "      <td>AU</td>\n",
       "      <td>1386412985</td>\n",
       "    </tr>\n",
       "    <tr>\n",
       "      <th>3</th>\n",
       "      <td>10859859638</td>\n",
       "      <td>2024-01-24T12:47:22-07:00</td>\n",
       "      <td>10c5a49c9a79ddf4cd973abd6f125b5bf98d9e6cf22fbd...</td>\n",
       "      <td>f713d7f8bf1c1400a223d76013914de72a242f8113163a...</td>\n",
       "      <td>24.1.80</td>\n",
       "      <td>5</td>\n",
       "      <td>Subject: Request for Premium Features in Whats...</td>\n",
       "      <td>Dear WhatsApp Support Team,\\n\\nI hope this mes...</td>\n",
       "      <td>https://itunes.apple.com/au/review?id=13864129...</td>\n",
       "      <td>AU</td>\n",
       "      <td>1386412985</td>\n",
       "    </tr>\n",
       "    <tr>\n",
       "      <th>4</th>\n",
       "      <td>10758670982</td>\n",
       "      <td>2023-12-29T05:13:49-07:00</td>\n",
       "      <td>83481ba5686098a9f7b2b9e374dc5ed7a3627bcd5eb28f...</td>\n",
       "      <td>59528539b374bc7bc8941a2785953ba58da70690e9fdd8...</td>\n",
       "      <td>23.25.86</td>\n",
       "      <td>2</td>\n",
       "      <td>Not satisfied yet</td>\n",
       "      <td>Only seems like someone clicks on your ad when...</td>\n",
       "      <td>https://itunes.apple.com/au/review?id=13864129...</td>\n",
       "      <td>AU</td>\n",
       "      <td>1386412985</td>\n",
       "    </tr>\n",
       "  </tbody>\n",
       "</table>\n",
       "</div>"
      ],
      "text/plain": [
       "            id                       date  \\\n",
       "0  10990027692  2024-02-28T13:15:16-07:00   \n",
       "1  10939311897  2024-02-14T14:47:02-07:00   \n",
       "2  10932303253  2024-02-12T15:54:56-07:00   \n",
       "3  10859859638  2024-01-24T12:47:22-07:00   \n",
       "4  10758670982  2023-12-29T05:13:49-07:00   \n",
       "\n",
       "                                            userName  \\\n",
       "0  a71209417cc69068db96287dcfa258e84a19b36c443521...   \n",
       "1  9f7302dde70e971b057aa14cec1d26479a9362da32e9ed...   \n",
       "2  ee939200223a21c2bdea5d17ef0ae2d9a03acfbb914c73...   \n",
       "3  10c5a49c9a79ddf4cd973abd6f125b5bf98d9e6cf22fbd...   \n",
       "4  83481ba5686098a9f7b2b9e374dc5ed7a3627bcd5eb28f...   \n",
       "\n",
       "                                             userUrl   version  score  \\\n",
       "0  c6434d50f03dc3225343d08cb75b120e19dc21937007da...   24.4.78      1   \n",
       "1  55105d432b1d6c664523f5de2576a199f8ffa8d8c20e8a...   24.3.76      2   \n",
       "2  1c044d9599692ebd0d50f4fb8d886f622ee02c549d76f8...   24.3.76      4   \n",
       "3  f713d7f8bf1c1400a223d76013914de72a242f8113163a...   24.1.80      5   \n",
       "4  59528539b374bc7bc8941a2785953ba58da70690e9fdd8...  23.25.86      2   \n",
       "\n",
       "                                               title  \\\n",
       "0                                      Status sounds   \n",
       "1                                              Calls   \n",
       "2                                    Recommendations   \n",
       "3  Subject: Request for Premium Features in Whats...   \n",
       "4                                  Not satisfied yet   \n",
       "\n",
       "                                                text  \\\n",
       "0  No sound comes from status videos after I upda...   \n",
       "1  Every time I’m on a phone call, it either cut ...   \n",
       "2  I like being to have a separate account/app fo...   \n",
       "3  Dear WhatsApp Support Team,\\n\\nI hope this mes...   \n",
       "4  Only seems like someone clicks on your ad when...   \n",
       "\n",
       "                                                 url country       appId  \n",
       "0  https://itunes.apple.com/au/review?id=13864129...      AU  1386412985  \n",
       "1  https://itunes.apple.com/au/review?id=13864129...      AU  1386412985  \n",
       "2  https://itunes.apple.com/au/review?id=13864129...      AU  1386412985  \n",
       "3  https://itunes.apple.com/au/review?id=13864129...      AU  1386412985  \n",
       "4  https://itunes.apple.com/au/review?id=13864129...      AU  1386412985  "
      ]
     },
     "execution_count": 3,
     "metadata": {},
     "output_type": "execute_result"
    }
   ],
   "source": [
    "data.head()"
   ]
  },
  {
   "cell_type": "code",
   "execution_count": 4,
   "id": "2e85da14",
   "metadata": {
    "execution": {
     "iopub.execute_input": "2024-03-22T13:17:28.032291Z",
     "iopub.status.busy": "2024-03-22T13:17:28.031637Z",
     "iopub.status.idle": "2024-03-22T13:17:30.325788Z",
     "shell.execute_reply": "2024-03-22T13:17:30.324351Z"
    },
    "papermill": {
     "duration": 2.303957,
     "end_time": "2024-03-22T13:17:30.328545",
     "exception": false,
     "start_time": "2024-03-22T13:17:28.024588",
     "status": "completed"
    },
    "tags": []
   },
   "outputs": [
    {
     "data": {
      "text/html": [
       "        <script type=\"text/javascript\">\n",
       "        window.PlotlyConfig = {MathJaxConfig: 'local'};\n",
       "        if (window.MathJax && window.MathJax.Hub && window.MathJax.Hub.Config) {window.MathJax.Hub.Config({SVG: {font: \"STIX-Web\"}});}\n",
       "        if (typeof require !== 'undefined') {\n",
       "        require.undef(\"plotly\");\n",
       "        requirejs.config({\n",
       "            paths: {\n",
       "                'plotly': ['https://cdn.plot.ly/plotly-2.27.0.min']\n",
       "            }\n",
       "        });\n",
       "        require(['plotly'], function(Plotly) {\n",
       "            window._Plotly = Plotly;\n",
       "        });\n",
       "        }\n",
       "        </script>\n",
       "        "
      ]
     },
     "metadata": {},
     "output_type": "display_data"
    }
   ],
   "source": [
    "#Imports\n",
    "import matplotlib.pyplot as plt\n",
    "import seaborn as sns\n",
    "color = sns.color_palette()\n",
    "%matplotlib inline\n",
    "import plotly.offline as py\n",
    "py.init_notebook_mode(connected=True)\n",
    "import plotly.graph_objs as go\n",
    "import plotly.tools as tls\n",
    "import plotly.express as px\n"
   ]
  },
  {
   "cell_type": "code",
   "execution_count": 5,
   "id": "28a9985a",
   "metadata": {
    "execution": {
     "iopub.execute_input": "2024-03-22T13:17:30.341879Z",
     "iopub.status.busy": "2024-03-22T13:17:30.341523Z",
     "iopub.status.idle": "2024-03-22T13:17:32.133746Z",
     "shell.execute_reply": "2024-03-22T13:17:32.132607Z"
    },
    "papermill": {
     "duration": 1.801781,
     "end_time": "2024-03-22T13:17:32.136235",
     "exception": false,
     "start_time": "2024-03-22T13:17:30.334454",
     "status": "completed"
    },
    "tags": []
   },
   "outputs": [
    {
     "data": {
      "application/vnd.plotly.v1+json": {
       "config": {
        "plotlyServerURL": "https://plot.ly"
       },
       "data": [
        {
         "alignmentgroup": "True",
         "bingroup": "x",
         "hovertemplate": "score=%{x}<br>count=%{y}<extra></extra>",
         "legendgroup": "",
         "marker": {
          "color": "turquoise",
          "line": {
           "color": "rgb(8,48,107)",
           "width": 1.5
          },
          "pattern": {
           "shape": ""
          }
         },
         "name": "",
         "offsetgroup": "",
         "orientation": "v",
         "showlegend": false,
         "type": "histogram",
         "x": [
          1,
          2,
          4,
          5,
          2,
          5,
          3,
          5,
          2,
          3,
          1,
          1,
          1,
          1,
          1,
          1,
          1,
          5,
          2,
          5,
          5,
          4,
          4,
          3,
          5,
          5,
          1,
          3,
          1,
          1,
          1,
          4,
          3,
          1,
          2,
          2,
          5,
          5,
          5,
          5,
          1,
          4,
          1,
          5,
          4,
          5,
          5,
          5,
          1,
          1,
          1,
          4,
          2,
          3,
          5,
          5,
          1,
          4,
          5,
          5,
          3,
          5,
          5,
          1,
          5,
          4,
          1,
          5,
          1,
          1,
          3,
          2,
          5,
          1,
          3,
          3,
          5,
          1,
          5,
          2,
          5,
          5,
          1,
          2,
          5,
          1,
          5,
          1,
          2,
          1,
          5,
          5,
          5,
          1,
          4,
          3,
          5,
          3,
          4,
          1,
          1,
          2,
          1,
          1,
          1,
          1,
          1,
          5,
          5,
          1,
          3,
          1,
          5,
          4,
          5,
          5,
          1,
          5,
          5,
          1,
          1,
          4,
          4,
          1,
          1,
          5,
          1,
          2,
          5,
          5,
          5,
          1,
          5,
          1,
          5,
          5,
          1,
          1,
          1,
          1,
          4,
          1,
          1,
          1,
          1,
          5,
          2,
          5,
          3,
          1,
          1,
          4,
          5,
          5,
          2,
          2,
          2,
          4,
          3,
          5,
          2,
          5,
          1,
          1,
          5,
          4,
          5,
          5,
          2,
          5,
          4,
          3,
          1,
          1,
          5,
          5,
          4,
          5,
          5,
          1,
          1,
          3,
          2,
          1,
          5,
          5,
          2,
          4,
          5,
          5,
          5,
          1,
          5,
          2,
          1,
          5,
          5,
          5,
          5,
          1,
          5,
          4,
          3,
          4,
          5,
          5,
          1,
          5,
          1,
          1,
          4,
          5,
          5,
          5,
          1,
          5,
          4,
          5,
          4,
          2,
          5,
          1,
          1,
          4,
          1,
          1,
          1,
          5,
          4,
          3,
          5,
          4,
          3,
          4,
          5,
          2,
          4,
          1,
          1,
          5,
          1,
          1,
          3,
          1,
          5,
          1,
          2,
          1,
          5,
          3,
          1,
          5,
          2,
          5,
          5,
          5,
          2,
          5,
          5,
          5,
          5,
          5,
          5,
          1,
          5,
          5,
          5,
          5,
          1,
          4,
          3,
          5,
          1,
          3,
          1,
          3,
          3,
          5,
          5,
          3,
          5,
          4,
          3,
          5,
          3,
          5,
          5,
          5,
          5,
          5,
          4,
          2,
          5,
          5,
          5,
          1,
          5,
          5,
          5,
          5,
          5,
          1,
          4,
          2,
          3,
          5,
          5,
          1,
          4,
          5,
          5,
          3,
          5,
          5,
          1,
          5,
          4,
          1,
          5,
          1,
          1,
          3,
          2,
          5,
          1,
          3,
          3,
          5,
          1,
          5,
          2,
          5,
          5,
          1,
          2,
          5,
          1,
          5,
          1,
          2,
          1,
          5,
          5,
          5,
          1,
          4,
          3,
          5,
          3,
          4,
          1,
          5,
          5,
          5,
          1,
          3,
          1,
          5,
          1,
          1,
          1,
          1,
          1,
          1,
          3,
          1,
          5,
          2,
          1,
          1,
          5,
          5,
          4,
          1,
          1,
          1,
          1,
          1,
          1,
          1,
          2,
          1,
          5,
          3,
          3,
          2,
          5,
          1,
          2,
          1,
          1,
          2,
          2,
          1,
          1,
          1,
          1,
          5,
          1,
          5,
          1,
          1,
          4,
          5,
          5,
          2,
          2,
          2,
          4,
          3,
          5,
          2,
          5,
          1,
          1,
          5,
          4,
          5,
          5,
          2,
          5,
          4,
          3,
          1,
          1,
          5,
          5,
          4,
          5,
          5,
          1,
          1,
          3,
          2,
          1,
          5,
          5,
          2,
          4,
          5,
          5,
          5,
          1,
          5,
          2,
          1,
          5,
          5,
          5,
          5,
          1,
          4,
          1,
          3,
          1,
          1,
          1,
          1,
          5,
          1,
          1,
          1,
          1,
          1,
          1,
          4,
          1,
          3,
          5,
          1,
          4,
          2,
          1,
          1,
          5,
          4,
          5,
          1,
          2,
          1,
          1,
          1,
          3,
          5,
          5,
          1,
          5,
          5,
          1,
          1,
          5,
          1,
          1,
          5,
          1,
          2,
          1,
          5,
          2,
          1,
          5,
          5,
          4,
          3,
          4,
          5,
          5,
          1,
          5,
          1,
          1,
          4,
          5,
          5,
          5,
          1,
          5,
          4,
          5,
          4,
          2,
          5,
          1,
          1,
          4,
          1,
          1,
          1,
          5,
          4,
          3,
          5,
          4,
          3,
          4,
          5,
          2,
          4,
          1,
          1,
          5,
          1,
          1,
          3,
          1,
          5,
          1,
          2,
          1,
          5,
          3,
          1,
          5,
          1,
          1,
          4,
          1,
          5,
          5,
          5,
          5,
          5,
          1,
          4,
          2,
          1,
          1,
          1,
          1,
          5,
          5,
          4,
          5,
          5,
          5,
          5,
          2,
          5,
          1,
          2,
          5,
          5,
          1,
          5,
          5,
          3,
          1,
          4,
          1,
          1,
          4,
          5,
          5,
          5,
          1,
          1,
          1,
          1,
          1,
          5,
          5,
          5,
          1,
          4,
          3,
          5,
          1,
          3,
          1,
          3,
          3,
          5,
          5,
          3,
          5,
          4,
          3,
          5,
          3,
          5,
          5,
          5,
          5,
          5,
          4,
          2,
          5,
          5,
          5,
          1,
          5,
          5,
          5,
          5,
          5,
          5,
          5,
          5,
          5,
          2,
          5,
          5,
          5,
          1,
          1,
          1,
          1,
          1,
          1,
          1,
          1,
          5,
          2,
          1,
          3,
          1,
          5,
          1,
          5,
          1,
          5,
          3,
          1,
          5,
          5,
          5,
          1,
          5,
          1,
          5,
          5,
          5,
          2,
          1,
          5,
          5,
          1,
          5,
          5,
          5,
          5,
          3,
          5,
          3,
          5,
          5,
          1,
          5,
          5,
          1,
          5,
          1,
          1,
          2,
          5,
          1,
          4,
          1,
          1,
          3,
          5,
          5,
          1,
          5,
          5,
          1,
          1,
          3,
          1,
          5,
          5,
          5,
          1,
          5,
          5,
          5,
          5,
          3,
          3,
          1,
          2,
          5,
          5,
          1,
          5,
          1,
          4,
          5,
          5,
          5,
          5,
          1,
          4,
          5,
          5,
          5,
          5,
          1,
          5,
          5,
          5,
          1,
          5,
          5,
          5,
          4,
          1,
          5,
          5,
          5,
          1,
          5,
          5,
          5,
          5,
          4,
          5,
          5,
          5,
          5,
          5,
          5,
          5,
          5,
          2,
          1,
          5,
          4,
          4,
          5,
          1,
          5,
          3,
          5,
          5,
          2,
          5,
          2,
          5,
          5,
          5,
          5,
          5,
          4,
          5,
          1,
          1,
          3,
          1,
          5,
          1,
          1,
          5,
          4,
          1,
          2,
          2,
          1,
          3,
          1,
          2,
          3,
          4,
          1,
          2,
          1,
          5,
          5,
          1,
          4,
          5,
          1,
          5,
          5,
          5,
          5,
          5,
          1,
          1,
          4,
          1,
          2,
          5,
          3,
          1,
          1,
          4,
          2,
          3,
          5,
          5,
          1,
          4,
          5,
          5,
          3,
          5,
          5,
          1,
          5,
          4,
          1,
          5,
          1,
          1,
          3,
          2,
          5,
          1,
          3,
          3,
          5,
          1,
          5,
          2,
          5,
          5,
          1,
          2,
          5,
          1,
          5,
          1,
          2,
          1,
          5,
          5,
          5,
          1,
          4,
          3,
          5,
          3,
          4,
          1,
          2,
          1,
          3,
          5,
          1,
          1,
          3,
          5,
          5,
          5,
          5,
          5,
          1,
          1,
          5,
          3,
          1,
          4,
          5,
          5,
          5,
          1,
          5,
          2,
          1,
          1,
          5,
          3,
          1,
          5,
          2,
          3,
          1,
          5,
          5,
          1,
          3,
          2,
          5,
          5,
          5,
          1,
          1,
          4,
          3,
          5,
          5,
          1,
          1,
          5,
          1,
          4,
          5,
          5,
          2,
          2,
          2,
          4,
          3,
          5,
          2,
          5,
          1,
          1,
          5,
          4,
          5,
          5,
          2,
          5,
          4,
          3,
          1,
          1,
          5,
          5,
          4,
          5,
          5,
          1,
          1,
          3,
          2,
          1,
          5,
          5,
          2,
          4,
          5,
          5,
          5,
          1,
          5,
          2,
          1,
          5,
          5,
          5,
          5,
          1,
          1,
          1,
          1,
          1,
          5,
          5,
          1,
          5,
          5,
          3,
          1,
          5,
          5,
          1,
          2,
          3,
          5,
          5,
          5,
          1,
          5,
          5,
          5,
          5,
          1,
          4,
          1,
          5,
          5,
          3,
          5,
          1,
          5,
          5,
          4,
          5,
          1,
          1,
          5,
          5,
          1,
          5,
          4,
          5,
          1,
          1,
          1,
          5,
          5,
          5,
          5,
          4,
          3,
          4,
          5,
          5,
          1,
          5,
          1,
          1,
          4,
          5,
          5,
          5,
          1,
          5,
          4,
          5,
          4,
          2,
          5,
          1,
          1,
          4,
          1,
          1,
          1,
          5,
          4,
          3,
          5,
          4,
          3,
          4,
          5,
          2,
          4,
          1,
          1,
          5,
          1,
          1,
          3,
          1,
          5,
          1,
          2,
          1,
          5,
          3,
          5,
          5,
          3,
          5,
          5,
          1,
          1,
          5,
          5,
          5,
          1,
          2,
          1,
          3,
          1,
          5,
          1,
          3,
          5,
          1,
          5,
          1,
          5,
          5,
          5,
          3,
          5,
          1,
          1,
          1,
          1,
          5,
          1,
          2,
          4,
          1,
          5,
          1,
          1,
          1,
          5,
          5,
          1,
          1,
          1,
          1,
          1,
          1,
          1,
          5,
          5,
          1,
          4,
          3,
          5,
          1,
          3,
          1,
          3,
          3,
          5,
          5,
          3,
          5,
          4,
          3,
          5,
          3,
          5,
          5,
          5,
          5,
          5,
          4,
          2,
          5,
          5,
          5,
          1,
          5,
          5,
          5,
          5,
          5,
          1,
          1,
          5,
          1,
          3,
          5,
          2,
          5,
          1,
          3,
          5,
          5,
          2,
          5,
          5,
          3,
          1,
          1,
          3,
          5,
          5,
          3,
          1,
          1,
          5,
          5,
          5,
          5,
          1,
          5,
          5,
          1,
          5,
          5,
          5,
          1,
          1,
          1,
          5,
          4,
          2,
          5,
          5,
          5,
          5,
          3,
          1,
          2,
          4,
          1,
          5,
          1,
          5,
          5,
          5,
          1,
          1,
          4,
          5,
          1,
          5,
          5,
          1,
          5,
          1,
          5,
          1,
          5,
          5,
          1,
          5,
          5,
          1,
          1,
          5,
          2,
          1,
          1,
          1,
          5,
          1,
          4,
          5,
          1,
          1,
          3,
          1,
          3,
          1,
          1,
          5,
          5,
          5,
          1,
          5,
          4,
          1,
          1,
          1,
          3,
          1,
          4,
          5,
          1,
          1,
          5,
          1,
          5,
          1,
          5,
          1,
          5,
          5,
          1,
          1,
          1,
          4,
          2,
          3,
          3,
          5,
          4,
          1,
          5,
          1,
          2,
          1,
          5,
          1,
          1,
          3,
          2,
          3,
          1,
          4,
          1,
          3,
          1,
          1,
          1,
          1,
          2,
          1,
          1,
          4,
          1,
          5,
          1,
          3,
          1,
          1,
          5,
          5,
          4,
          5,
          5,
          5,
          1,
          5,
          3,
          1,
          5,
          1,
          1,
          1,
          5,
          1,
          1,
          5,
          1,
          1,
          1,
          1,
          1,
          1,
          2,
          4,
          4,
          5,
          1,
          2,
          4,
          5,
          5,
          5,
          5,
          5,
          3,
          4,
          5,
          5,
          3,
          1,
          2,
          1,
          2,
          2,
          4,
          5,
          4,
          3,
          1,
          2,
          2,
          5,
          3,
          5,
          1,
          1,
          5,
          1,
          2,
          2,
          1,
          1,
          1,
          1,
          2,
          1,
          1,
          1,
          5,
          5,
          1,
          1,
          1,
          1,
          1,
          5,
          2,
          1,
          1,
          1,
          3,
          1,
          5,
          5,
          1,
          5,
          1,
          1,
          1,
          2,
          1,
          1,
          1,
          5,
          1,
          5,
          1,
          2,
          5,
          1,
          1,
          5,
          1,
          5,
          1,
          5,
          5,
          5,
          5,
          1,
          2,
          5,
          5,
          1,
          2,
          5,
          1,
          4,
          2,
          5,
          1,
          5,
          4,
          5,
          5,
          5,
          1,
          3,
          5,
          1,
          5,
          1,
          5,
          5,
          1,
          1,
          1,
          5,
          1,
          1,
          3,
          5,
          1,
          5,
          5,
          1,
          1
         ],
         "xaxis": "x",
         "yaxis": "y"
        }
       ],
       "layout": {
        "barmode": "relative",
        "legend": {
         "tracegroupgap": 0
        },
        "margin": {
         "t": 60
        },
        "template": {
         "data": {
          "bar": [
           {
            "error_x": {
             "color": "#2a3f5f"
            },
            "error_y": {
             "color": "#2a3f5f"
            },
            "marker": {
             "line": {
              "color": "#E5ECF6",
              "width": 0.5
             },
             "pattern": {
              "fillmode": "overlay",
              "size": 10,
              "solidity": 0.2
             }
            },
            "type": "bar"
           }
          ],
          "barpolar": [
           {
            "marker": {
             "line": {
              "color": "#E5ECF6",
              "width": 0.5
             },
             "pattern": {
              "fillmode": "overlay",
              "size": 10,
              "solidity": 0.2
             }
            },
            "type": "barpolar"
           }
          ],
          "carpet": [
           {
            "aaxis": {
             "endlinecolor": "#2a3f5f",
             "gridcolor": "white",
             "linecolor": "white",
             "minorgridcolor": "white",
             "startlinecolor": "#2a3f5f"
            },
            "baxis": {
             "endlinecolor": "#2a3f5f",
             "gridcolor": "white",
             "linecolor": "white",
             "minorgridcolor": "white",
             "startlinecolor": "#2a3f5f"
            },
            "type": "carpet"
           }
          ],
          "choropleth": [
           {
            "colorbar": {
             "outlinewidth": 0,
             "ticks": ""
            },
            "type": "choropleth"
           }
          ],
          "contour": [
           {
            "colorbar": {
             "outlinewidth": 0,
             "ticks": ""
            },
            "colorscale": [
             [
              0,
              "#0d0887"
             ],
             [
              0.1111111111111111,
              "#46039f"
             ],
             [
              0.2222222222222222,
              "#7201a8"
             ],
             [
              0.3333333333333333,
              "#9c179e"
             ],
             [
              0.4444444444444444,
              "#bd3786"
             ],
             [
              0.5555555555555556,
              "#d8576b"
             ],
             [
              0.6666666666666666,
              "#ed7953"
             ],
             [
              0.7777777777777778,
              "#fb9f3a"
             ],
             [
              0.8888888888888888,
              "#fdca26"
             ],
             [
              1,
              "#f0f921"
             ]
            ],
            "type": "contour"
           }
          ],
          "contourcarpet": [
           {
            "colorbar": {
             "outlinewidth": 0,
             "ticks": ""
            },
            "type": "contourcarpet"
           }
          ],
          "heatmap": [
           {
            "colorbar": {
             "outlinewidth": 0,
             "ticks": ""
            },
            "colorscale": [
             [
              0,
              "#0d0887"
             ],
             [
              0.1111111111111111,
              "#46039f"
             ],
             [
              0.2222222222222222,
              "#7201a8"
             ],
             [
              0.3333333333333333,
              "#9c179e"
             ],
             [
              0.4444444444444444,
              "#bd3786"
             ],
             [
              0.5555555555555556,
              "#d8576b"
             ],
             [
              0.6666666666666666,
              "#ed7953"
             ],
             [
              0.7777777777777778,
              "#fb9f3a"
             ],
             [
              0.8888888888888888,
              "#fdca26"
             ],
             [
              1,
              "#f0f921"
             ]
            ],
            "type": "heatmap"
           }
          ],
          "heatmapgl": [
           {
            "colorbar": {
             "outlinewidth": 0,
             "ticks": ""
            },
            "colorscale": [
             [
              0,
              "#0d0887"
             ],
             [
              0.1111111111111111,
              "#46039f"
             ],
             [
              0.2222222222222222,
              "#7201a8"
             ],
             [
              0.3333333333333333,
              "#9c179e"
             ],
             [
              0.4444444444444444,
              "#bd3786"
             ],
             [
              0.5555555555555556,
              "#d8576b"
             ],
             [
              0.6666666666666666,
              "#ed7953"
             ],
             [
              0.7777777777777778,
              "#fb9f3a"
             ],
             [
              0.8888888888888888,
              "#fdca26"
             ],
             [
              1,
              "#f0f921"
             ]
            ],
            "type": "heatmapgl"
           }
          ],
          "histogram": [
           {
            "marker": {
             "pattern": {
              "fillmode": "overlay",
              "size": 10,
              "solidity": 0.2
             }
            },
            "type": "histogram"
           }
          ],
          "histogram2d": [
           {
            "colorbar": {
             "outlinewidth": 0,
             "ticks": ""
            },
            "colorscale": [
             [
              0,
              "#0d0887"
             ],
             [
              0.1111111111111111,
              "#46039f"
             ],
             [
              0.2222222222222222,
              "#7201a8"
             ],
             [
              0.3333333333333333,
              "#9c179e"
             ],
             [
              0.4444444444444444,
              "#bd3786"
             ],
             [
              0.5555555555555556,
              "#d8576b"
             ],
             [
              0.6666666666666666,
              "#ed7953"
             ],
             [
              0.7777777777777778,
              "#fb9f3a"
             ],
             [
              0.8888888888888888,
              "#fdca26"
             ],
             [
              1,
              "#f0f921"
             ]
            ],
            "type": "histogram2d"
           }
          ],
          "histogram2dcontour": [
           {
            "colorbar": {
             "outlinewidth": 0,
             "ticks": ""
            },
            "colorscale": [
             [
              0,
              "#0d0887"
             ],
             [
              0.1111111111111111,
              "#46039f"
             ],
             [
              0.2222222222222222,
              "#7201a8"
             ],
             [
              0.3333333333333333,
              "#9c179e"
             ],
             [
              0.4444444444444444,
              "#bd3786"
             ],
             [
              0.5555555555555556,
              "#d8576b"
             ],
             [
              0.6666666666666666,
              "#ed7953"
             ],
             [
              0.7777777777777778,
              "#fb9f3a"
             ],
             [
              0.8888888888888888,
              "#fdca26"
             ],
             [
              1,
              "#f0f921"
             ]
            ],
            "type": "histogram2dcontour"
           }
          ],
          "mesh3d": [
           {
            "colorbar": {
             "outlinewidth": 0,
             "ticks": ""
            },
            "type": "mesh3d"
           }
          ],
          "parcoords": [
           {
            "line": {
             "colorbar": {
              "outlinewidth": 0,
              "ticks": ""
             }
            },
            "type": "parcoords"
           }
          ],
          "pie": [
           {
            "automargin": true,
            "type": "pie"
           }
          ],
          "scatter": [
           {
            "fillpattern": {
             "fillmode": "overlay",
             "size": 10,
             "solidity": 0.2
            },
            "type": "scatter"
           }
          ],
          "scatter3d": [
           {
            "line": {
             "colorbar": {
              "outlinewidth": 0,
              "ticks": ""
             }
            },
            "marker": {
             "colorbar": {
              "outlinewidth": 0,
              "ticks": ""
             }
            },
            "type": "scatter3d"
           }
          ],
          "scattercarpet": [
           {
            "marker": {
             "colorbar": {
              "outlinewidth": 0,
              "ticks": ""
             }
            },
            "type": "scattercarpet"
           }
          ],
          "scattergeo": [
           {
            "marker": {
             "colorbar": {
              "outlinewidth": 0,
              "ticks": ""
             }
            },
            "type": "scattergeo"
           }
          ],
          "scattergl": [
           {
            "marker": {
             "colorbar": {
              "outlinewidth": 0,
              "ticks": ""
             }
            },
            "type": "scattergl"
           }
          ],
          "scattermapbox": [
           {
            "marker": {
             "colorbar": {
              "outlinewidth": 0,
              "ticks": ""
             }
            },
            "type": "scattermapbox"
           }
          ],
          "scatterpolar": [
           {
            "marker": {
             "colorbar": {
              "outlinewidth": 0,
              "ticks": ""
             }
            },
            "type": "scatterpolar"
           }
          ],
          "scatterpolargl": [
           {
            "marker": {
             "colorbar": {
              "outlinewidth": 0,
              "ticks": ""
             }
            },
            "type": "scatterpolargl"
           }
          ],
          "scatterternary": [
           {
            "marker": {
             "colorbar": {
              "outlinewidth": 0,
              "ticks": ""
             }
            },
            "type": "scatterternary"
           }
          ],
          "surface": [
           {
            "colorbar": {
             "outlinewidth": 0,
             "ticks": ""
            },
            "colorscale": [
             [
              0,
              "#0d0887"
             ],
             [
              0.1111111111111111,
              "#46039f"
             ],
             [
              0.2222222222222222,
              "#7201a8"
             ],
             [
              0.3333333333333333,
              "#9c179e"
             ],
             [
              0.4444444444444444,
              "#bd3786"
             ],
             [
              0.5555555555555556,
              "#d8576b"
             ],
             [
              0.6666666666666666,
              "#ed7953"
             ],
             [
              0.7777777777777778,
              "#fb9f3a"
             ],
             [
              0.8888888888888888,
              "#fdca26"
             ],
             [
              1,
              "#f0f921"
             ]
            ],
            "type": "surface"
           }
          ],
          "table": [
           {
            "cells": {
             "fill": {
              "color": "#EBF0F8"
             },
             "line": {
              "color": "white"
             }
            },
            "header": {
             "fill": {
              "color": "#C8D4E3"
             },
             "line": {
              "color": "white"
             }
            },
            "type": "table"
           }
          ]
         },
         "layout": {
          "annotationdefaults": {
           "arrowcolor": "#2a3f5f",
           "arrowhead": 0,
           "arrowwidth": 1
          },
          "autotypenumbers": "strict",
          "coloraxis": {
           "colorbar": {
            "outlinewidth": 0,
            "ticks": ""
           }
          },
          "colorscale": {
           "diverging": [
            [
             0,
             "#8e0152"
            ],
            [
             0.1,
             "#c51b7d"
            ],
            [
             0.2,
             "#de77ae"
            ],
            [
             0.3,
             "#f1b6da"
            ],
            [
             0.4,
             "#fde0ef"
            ],
            [
             0.5,
             "#f7f7f7"
            ],
            [
             0.6,
             "#e6f5d0"
            ],
            [
             0.7,
             "#b8e186"
            ],
            [
             0.8,
             "#7fbc41"
            ],
            [
             0.9,
             "#4d9221"
            ],
            [
             1,
             "#276419"
            ]
           ],
           "sequential": [
            [
             0,
             "#0d0887"
            ],
            [
             0.1111111111111111,
             "#46039f"
            ],
            [
             0.2222222222222222,
             "#7201a8"
            ],
            [
             0.3333333333333333,
             "#9c179e"
            ],
            [
             0.4444444444444444,
             "#bd3786"
            ],
            [
             0.5555555555555556,
             "#d8576b"
            ],
            [
             0.6666666666666666,
             "#ed7953"
            ],
            [
             0.7777777777777778,
             "#fb9f3a"
            ],
            [
             0.8888888888888888,
             "#fdca26"
            ],
            [
             1,
             "#f0f921"
            ]
           ],
           "sequentialminus": [
            [
             0,
             "#0d0887"
            ],
            [
             0.1111111111111111,
             "#46039f"
            ],
            [
             0.2222222222222222,
             "#7201a8"
            ],
            [
             0.3333333333333333,
             "#9c179e"
            ],
            [
             0.4444444444444444,
             "#bd3786"
            ],
            [
             0.5555555555555556,
             "#d8576b"
            ],
            [
             0.6666666666666666,
             "#ed7953"
            ],
            [
             0.7777777777777778,
             "#fb9f3a"
            ],
            [
             0.8888888888888888,
             "#fdca26"
            ],
            [
             1,
             "#f0f921"
            ]
           ]
          },
          "colorway": [
           "#636efa",
           "#EF553B",
           "#00cc96",
           "#ab63fa",
           "#FFA15A",
           "#19d3f3",
           "#FF6692",
           "#B6E880",
           "#FF97FF",
           "#FECB52"
          ],
          "font": {
           "color": "#2a3f5f"
          },
          "geo": {
           "bgcolor": "white",
           "lakecolor": "white",
           "landcolor": "#E5ECF6",
           "showlakes": true,
           "showland": true,
           "subunitcolor": "white"
          },
          "hoverlabel": {
           "align": "left"
          },
          "hovermode": "closest",
          "mapbox": {
           "style": "light"
          },
          "paper_bgcolor": "white",
          "plot_bgcolor": "#E5ECF6",
          "polar": {
           "angularaxis": {
            "gridcolor": "white",
            "linecolor": "white",
            "ticks": ""
           },
           "bgcolor": "#E5ECF6",
           "radialaxis": {
            "gridcolor": "white",
            "linecolor": "white",
            "ticks": ""
           }
          },
          "scene": {
           "xaxis": {
            "backgroundcolor": "#E5ECF6",
            "gridcolor": "white",
            "gridwidth": 2,
            "linecolor": "white",
            "showbackground": true,
            "ticks": "",
            "zerolinecolor": "white"
           },
           "yaxis": {
            "backgroundcolor": "#E5ECF6",
            "gridcolor": "white",
            "gridwidth": 2,
            "linecolor": "white",
            "showbackground": true,
            "ticks": "",
            "zerolinecolor": "white"
           },
           "zaxis": {
            "backgroundcolor": "#E5ECF6",
            "gridcolor": "white",
            "gridwidth": 2,
            "linecolor": "white",
            "showbackground": true,
            "ticks": "",
            "zerolinecolor": "white"
           }
          },
          "shapedefaults": {
           "line": {
            "color": "#2a3f5f"
           }
          },
          "ternary": {
           "aaxis": {
            "gridcolor": "white",
            "linecolor": "white",
            "ticks": ""
           },
           "baxis": {
            "gridcolor": "white",
            "linecolor": "white",
            "ticks": ""
           },
           "bgcolor": "#E5ECF6",
           "caxis": {
            "gridcolor": "white",
            "linecolor": "white",
            "ticks": ""
           }
          },
          "title": {
           "x": 0.05
          },
          "xaxis": {
           "automargin": true,
           "gridcolor": "white",
           "linecolor": "white",
           "ticks": "",
           "title": {
            "standoff": 15
           },
           "zerolinecolor": "white",
           "zerolinewidth": 2
          },
          "yaxis": {
           "automargin": true,
           "gridcolor": "white",
           "linecolor": "white",
           "ticks": "",
           "title": {
            "standoff": 15
           },
           "zerolinecolor": "white",
           "zerolinewidth": 2
          }
         }
        },
        "title": {
         "text": "Review Score"
        },
        "xaxis": {
         "anchor": "y",
         "domain": [
          0,
          1
         ],
         "title": {
          "text": "score"
         }
        },
        "yaxis": {
         "anchor": "x",
         "domain": [
          0,
          1
         ],
         "title": {
          "text": "count"
         }
        }
       }
      },
      "text/html": [
       "<div>                            <div id=\"cd7f1c18-0ec1-4348-81e4-f5323b4d18ab\" class=\"plotly-graph-div\" style=\"height:525px; width:100%;\"></div>            <script type=\"text/javascript\">                require([\"plotly\"], function(Plotly) {                    window.PLOTLYENV=window.PLOTLYENV || {};                                    if (document.getElementById(\"cd7f1c18-0ec1-4348-81e4-f5323b4d18ab\")) {                    Plotly.newPlot(                        \"cd7f1c18-0ec1-4348-81e4-f5323b4d18ab\",                        [{\"alignmentgroup\":\"True\",\"bingroup\":\"x\",\"hovertemplate\":\"score=%{x}\\u003cbr\\u003ecount=%{y}\\u003cextra\\u003e\\u003c\\u002fextra\\u003e\",\"legendgroup\":\"\",\"marker\":{\"color\":\"turquoise\",\"pattern\":{\"shape\":\"\"},\"line\":{\"color\":\"rgb(8,48,107)\",\"width\":1.5}},\"name\":\"\",\"offsetgroup\":\"\",\"orientation\":\"v\",\"showlegend\":false,\"x\":[1,2,4,5,2,5,3,5,2,3,1,1,1,1,1,1,1,5,2,5,5,4,4,3,5,5,1,3,1,1,1,4,3,1,2,2,5,5,5,5,1,4,1,5,4,5,5,5,1,1,1,4,2,3,5,5,1,4,5,5,3,5,5,1,5,4,1,5,1,1,3,2,5,1,3,3,5,1,5,2,5,5,1,2,5,1,5,1,2,1,5,5,5,1,4,3,5,3,4,1,1,2,1,1,1,1,1,5,5,1,3,1,5,4,5,5,1,5,5,1,1,4,4,1,1,5,1,2,5,5,5,1,5,1,5,5,1,1,1,1,4,1,1,1,1,5,2,5,3,1,1,4,5,5,2,2,2,4,3,5,2,5,1,1,5,4,5,5,2,5,4,3,1,1,5,5,4,5,5,1,1,3,2,1,5,5,2,4,5,5,5,1,5,2,1,5,5,5,5,1,5,4,3,4,5,5,1,5,1,1,4,5,5,5,1,5,4,5,4,2,5,1,1,4,1,1,1,5,4,3,5,4,3,4,5,2,4,1,1,5,1,1,3,1,5,1,2,1,5,3,1,5,2,5,5,5,2,5,5,5,5,5,5,1,5,5,5,5,1,4,3,5,1,3,1,3,3,5,5,3,5,4,3,5,3,5,5,5,5,5,4,2,5,5,5,1,5,5,5,5,5,1,4,2,3,5,5,1,4,5,5,3,5,5,1,5,4,1,5,1,1,3,2,5,1,3,3,5,1,5,2,5,5,1,2,5,1,5,1,2,1,5,5,5,1,4,3,5,3,4,1,5,5,5,1,3,1,5,1,1,1,1,1,1,3,1,5,2,1,1,5,5,4,1,1,1,1,1,1,1,2,1,5,3,3,2,5,1,2,1,1,2,2,1,1,1,1,5,1,5,1,1,4,5,5,2,2,2,4,3,5,2,5,1,1,5,4,5,5,2,5,4,3,1,1,5,5,4,5,5,1,1,3,2,1,5,5,2,4,5,5,5,1,5,2,1,5,5,5,5,1,4,1,3,1,1,1,1,5,1,1,1,1,1,1,4,1,3,5,1,4,2,1,1,5,4,5,1,2,1,1,1,3,5,5,1,5,5,1,1,5,1,1,5,1,2,1,5,2,1,5,5,4,3,4,5,5,1,5,1,1,4,5,5,5,1,5,4,5,4,2,5,1,1,4,1,1,1,5,4,3,5,4,3,4,5,2,4,1,1,5,1,1,3,1,5,1,2,1,5,3,1,5,1,1,4,1,5,5,5,5,5,1,4,2,1,1,1,1,5,5,4,5,5,5,5,2,5,1,2,5,5,1,5,5,3,1,4,1,1,4,5,5,5,1,1,1,1,1,5,5,5,1,4,3,5,1,3,1,3,3,5,5,3,5,4,3,5,3,5,5,5,5,5,4,2,5,5,5,1,5,5,5,5,5,5,5,5,5,2,5,5,5,1,1,1,1,1,1,1,1,5,2,1,3,1,5,1,5,1,5,3,1,5,5,5,1,5,1,5,5,5,2,1,5,5,1,5,5,5,5,3,5,3,5,5,1,5,5,1,5,1,1,2,5,1,4,1,1,3,5,5,1,5,5,1,1,3,1,5,5,5,1,5,5,5,5,3,3,1,2,5,5,1,5,1,4,5,5,5,5,1,4,5,5,5,5,1,5,5,5,1,5,5,5,4,1,5,5,5,1,5,5,5,5,4,5,5,5,5,5,5,5,5,2,1,5,4,4,5,1,5,3,5,5,2,5,2,5,5,5,5,5,4,5,1,1,3,1,5,1,1,5,4,1,2,2,1,3,1,2,3,4,1,2,1,5,5,1,4,5,1,5,5,5,5,5,1,1,4,1,2,5,3,1,1,4,2,3,5,5,1,4,5,5,3,5,5,1,5,4,1,5,1,1,3,2,5,1,3,3,5,1,5,2,5,5,1,2,5,1,5,1,2,1,5,5,5,1,4,3,5,3,4,1,2,1,3,5,1,1,3,5,5,5,5,5,1,1,5,3,1,4,5,5,5,1,5,2,1,1,5,3,1,5,2,3,1,5,5,1,3,2,5,5,5,1,1,4,3,5,5,1,1,5,1,4,5,5,2,2,2,4,3,5,2,5,1,1,5,4,5,5,2,5,4,3,1,1,5,5,4,5,5,1,1,3,2,1,5,5,2,4,5,5,5,1,5,2,1,5,5,5,5,1,1,1,1,1,5,5,1,5,5,3,1,5,5,1,2,3,5,5,5,1,5,5,5,5,1,4,1,5,5,3,5,1,5,5,4,5,1,1,5,5,1,5,4,5,1,1,1,5,5,5,5,4,3,4,5,5,1,5,1,1,4,5,5,5,1,5,4,5,4,2,5,1,1,4,1,1,1,5,4,3,5,4,3,4,5,2,4,1,1,5,1,1,3,1,5,1,2,1,5,3,5,5,3,5,5,1,1,5,5,5,1,2,1,3,1,5,1,3,5,1,5,1,5,5,5,3,5,1,1,1,1,5,1,2,4,1,5,1,1,1,5,5,1,1,1,1,1,1,1,5,5,1,4,3,5,1,3,1,3,3,5,5,3,5,4,3,5,3,5,5,5,5,5,4,2,5,5,5,1,5,5,5,5,5,1,1,5,1,3,5,2,5,1,3,5,5,2,5,5,3,1,1,3,5,5,3,1,1,5,5,5,5,1,5,5,1,5,5,5,1,1,1,5,4,2,5,5,5,5,3,1,2,4,1,5,1,5,5,5,1,1,4,5,1,5,5,1,5,1,5,1,5,5,1,5,5,1,1,5,2,1,1,1,5,1,4,5,1,1,3,1,3,1,1,5,5,5,1,5,4,1,1,1,3,1,4,5,1,1,5,1,5,1,5,1,5,5,1,1,1,4,2,3,3,5,4,1,5,1,2,1,5,1,1,3,2,3,1,4,1,3,1,1,1,1,2,1,1,4,1,5,1,3,1,1,5,5,4,5,5,5,1,5,3,1,5,1,1,1,5,1,1,5,1,1,1,1,1,1,2,4,4,5,1,2,4,5,5,5,5,5,3,4,5,5,3,1,2,1,2,2,4,5,4,3,1,2,2,5,3,5,1,1,5,1,2,2,1,1,1,1,2,1,1,1,5,5,1,1,1,1,1,5,2,1,1,1,3,1,5,5,1,5,1,1,1,2,1,1,1,5,1,5,1,2,5,1,1,5,1,5,1,5,5,5,5,1,2,5,5,1,2,5,1,4,2,5,1,5,4,5,5,5,1,3,5,1,5,1,5,5,1,1,1,5,1,1,3,5,1,5,5,1,1],\"xaxis\":\"x\",\"yaxis\":\"y\",\"type\":\"histogram\"}],                        {\"template\":{\"data\":{\"histogram2dcontour\":[{\"type\":\"histogram2dcontour\",\"colorbar\":{\"outlinewidth\":0,\"ticks\":\"\"},\"colorscale\":[[0.0,\"#0d0887\"],[0.1111111111111111,\"#46039f\"],[0.2222222222222222,\"#7201a8\"],[0.3333333333333333,\"#9c179e\"],[0.4444444444444444,\"#bd3786\"],[0.5555555555555556,\"#d8576b\"],[0.6666666666666666,\"#ed7953\"],[0.7777777777777778,\"#fb9f3a\"],[0.8888888888888888,\"#fdca26\"],[1.0,\"#f0f921\"]]}],\"choropleth\":[{\"type\":\"choropleth\",\"colorbar\":{\"outlinewidth\":0,\"ticks\":\"\"}}],\"histogram2d\":[{\"type\":\"histogram2d\",\"colorbar\":{\"outlinewidth\":0,\"ticks\":\"\"},\"colorscale\":[[0.0,\"#0d0887\"],[0.1111111111111111,\"#46039f\"],[0.2222222222222222,\"#7201a8\"],[0.3333333333333333,\"#9c179e\"],[0.4444444444444444,\"#bd3786\"],[0.5555555555555556,\"#d8576b\"],[0.6666666666666666,\"#ed7953\"],[0.7777777777777778,\"#fb9f3a\"],[0.8888888888888888,\"#fdca26\"],[1.0,\"#f0f921\"]]}],\"heatmap\":[{\"type\":\"heatmap\",\"colorbar\":{\"outlinewidth\":0,\"ticks\":\"\"},\"colorscale\":[[0.0,\"#0d0887\"],[0.1111111111111111,\"#46039f\"],[0.2222222222222222,\"#7201a8\"],[0.3333333333333333,\"#9c179e\"],[0.4444444444444444,\"#bd3786\"],[0.5555555555555556,\"#d8576b\"],[0.6666666666666666,\"#ed7953\"],[0.7777777777777778,\"#fb9f3a\"],[0.8888888888888888,\"#fdca26\"],[1.0,\"#f0f921\"]]}],\"heatmapgl\":[{\"type\":\"heatmapgl\",\"colorbar\":{\"outlinewidth\":0,\"ticks\":\"\"},\"colorscale\":[[0.0,\"#0d0887\"],[0.1111111111111111,\"#46039f\"],[0.2222222222222222,\"#7201a8\"],[0.3333333333333333,\"#9c179e\"],[0.4444444444444444,\"#bd3786\"],[0.5555555555555556,\"#d8576b\"],[0.6666666666666666,\"#ed7953\"],[0.7777777777777778,\"#fb9f3a\"],[0.8888888888888888,\"#fdca26\"],[1.0,\"#f0f921\"]]}],\"contourcarpet\":[{\"type\":\"contourcarpet\",\"colorbar\":{\"outlinewidth\":0,\"ticks\":\"\"}}],\"contour\":[{\"type\":\"contour\",\"colorbar\":{\"outlinewidth\":0,\"ticks\":\"\"},\"colorscale\":[[0.0,\"#0d0887\"],[0.1111111111111111,\"#46039f\"],[0.2222222222222222,\"#7201a8\"],[0.3333333333333333,\"#9c179e\"],[0.4444444444444444,\"#bd3786\"],[0.5555555555555556,\"#d8576b\"],[0.6666666666666666,\"#ed7953\"],[0.7777777777777778,\"#fb9f3a\"],[0.8888888888888888,\"#fdca26\"],[1.0,\"#f0f921\"]]}],\"surface\":[{\"type\":\"surface\",\"colorbar\":{\"outlinewidth\":0,\"ticks\":\"\"},\"colorscale\":[[0.0,\"#0d0887\"],[0.1111111111111111,\"#46039f\"],[0.2222222222222222,\"#7201a8\"],[0.3333333333333333,\"#9c179e\"],[0.4444444444444444,\"#bd3786\"],[0.5555555555555556,\"#d8576b\"],[0.6666666666666666,\"#ed7953\"],[0.7777777777777778,\"#fb9f3a\"],[0.8888888888888888,\"#fdca26\"],[1.0,\"#f0f921\"]]}],\"mesh3d\":[{\"type\":\"mesh3d\",\"colorbar\":{\"outlinewidth\":0,\"ticks\":\"\"}}],\"scatter\":[{\"fillpattern\":{\"fillmode\":\"overlay\",\"size\":10,\"solidity\":0.2},\"type\":\"scatter\"}],\"parcoords\":[{\"type\":\"parcoords\",\"line\":{\"colorbar\":{\"outlinewidth\":0,\"ticks\":\"\"}}}],\"scatterpolargl\":[{\"type\":\"scatterpolargl\",\"marker\":{\"colorbar\":{\"outlinewidth\":0,\"ticks\":\"\"}}}],\"bar\":[{\"error_x\":{\"color\":\"#2a3f5f\"},\"error_y\":{\"color\":\"#2a3f5f\"},\"marker\":{\"line\":{\"color\":\"#E5ECF6\",\"width\":0.5},\"pattern\":{\"fillmode\":\"overlay\",\"size\":10,\"solidity\":0.2}},\"type\":\"bar\"}],\"scattergeo\":[{\"type\":\"scattergeo\",\"marker\":{\"colorbar\":{\"outlinewidth\":0,\"ticks\":\"\"}}}],\"scatterpolar\":[{\"type\":\"scatterpolar\",\"marker\":{\"colorbar\":{\"outlinewidth\":0,\"ticks\":\"\"}}}],\"histogram\":[{\"marker\":{\"pattern\":{\"fillmode\":\"overlay\",\"size\":10,\"solidity\":0.2}},\"type\":\"histogram\"}],\"scattergl\":[{\"type\":\"scattergl\",\"marker\":{\"colorbar\":{\"outlinewidth\":0,\"ticks\":\"\"}}}],\"scatter3d\":[{\"type\":\"scatter3d\",\"line\":{\"colorbar\":{\"outlinewidth\":0,\"ticks\":\"\"}},\"marker\":{\"colorbar\":{\"outlinewidth\":0,\"ticks\":\"\"}}}],\"scattermapbox\":[{\"type\":\"scattermapbox\",\"marker\":{\"colorbar\":{\"outlinewidth\":0,\"ticks\":\"\"}}}],\"scatterternary\":[{\"type\":\"scatterternary\",\"marker\":{\"colorbar\":{\"outlinewidth\":0,\"ticks\":\"\"}}}],\"scattercarpet\":[{\"type\":\"scattercarpet\",\"marker\":{\"colorbar\":{\"outlinewidth\":0,\"ticks\":\"\"}}}],\"carpet\":[{\"aaxis\":{\"endlinecolor\":\"#2a3f5f\",\"gridcolor\":\"white\",\"linecolor\":\"white\",\"minorgridcolor\":\"white\",\"startlinecolor\":\"#2a3f5f\"},\"baxis\":{\"endlinecolor\":\"#2a3f5f\",\"gridcolor\":\"white\",\"linecolor\":\"white\",\"minorgridcolor\":\"white\",\"startlinecolor\":\"#2a3f5f\"},\"type\":\"carpet\"}],\"table\":[{\"cells\":{\"fill\":{\"color\":\"#EBF0F8\"},\"line\":{\"color\":\"white\"}},\"header\":{\"fill\":{\"color\":\"#C8D4E3\"},\"line\":{\"color\":\"white\"}},\"type\":\"table\"}],\"barpolar\":[{\"marker\":{\"line\":{\"color\":\"#E5ECF6\",\"width\":0.5},\"pattern\":{\"fillmode\":\"overlay\",\"size\":10,\"solidity\":0.2}},\"type\":\"barpolar\"}],\"pie\":[{\"automargin\":true,\"type\":\"pie\"}]},\"layout\":{\"autotypenumbers\":\"strict\",\"colorway\":[\"#636efa\",\"#EF553B\",\"#00cc96\",\"#ab63fa\",\"#FFA15A\",\"#19d3f3\",\"#FF6692\",\"#B6E880\",\"#FF97FF\",\"#FECB52\"],\"font\":{\"color\":\"#2a3f5f\"},\"hovermode\":\"closest\",\"hoverlabel\":{\"align\":\"left\"},\"paper_bgcolor\":\"white\",\"plot_bgcolor\":\"#E5ECF6\",\"polar\":{\"bgcolor\":\"#E5ECF6\",\"angularaxis\":{\"gridcolor\":\"white\",\"linecolor\":\"white\",\"ticks\":\"\"},\"radialaxis\":{\"gridcolor\":\"white\",\"linecolor\":\"white\",\"ticks\":\"\"}},\"ternary\":{\"bgcolor\":\"#E5ECF6\",\"aaxis\":{\"gridcolor\":\"white\",\"linecolor\":\"white\",\"ticks\":\"\"},\"baxis\":{\"gridcolor\":\"white\",\"linecolor\":\"white\",\"ticks\":\"\"},\"caxis\":{\"gridcolor\":\"white\",\"linecolor\":\"white\",\"ticks\":\"\"}},\"coloraxis\":{\"colorbar\":{\"outlinewidth\":0,\"ticks\":\"\"}},\"colorscale\":{\"sequential\":[[0.0,\"#0d0887\"],[0.1111111111111111,\"#46039f\"],[0.2222222222222222,\"#7201a8\"],[0.3333333333333333,\"#9c179e\"],[0.4444444444444444,\"#bd3786\"],[0.5555555555555556,\"#d8576b\"],[0.6666666666666666,\"#ed7953\"],[0.7777777777777778,\"#fb9f3a\"],[0.8888888888888888,\"#fdca26\"],[1.0,\"#f0f921\"]],\"sequentialminus\":[[0.0,\"#0d0887\"],[0.1111111111111111,\"#46039f\"],[0.2222222222222222,\"#7201a8\"],[0.3333333333333333,\"#9c179e\"],[0.4444444444444444,\"#bd3786\"],[0.5555555555555556,\"#d8576b\"],[0.6666666666666666,\"#ed7953\"],[0.7777777777777778,\"#fb9f3a\"],[0.8888888888888888,\"#fdca26\"],[1.0,\"#f0f921\"]],\"diverging\":[[0,\"#8e0152\"],[0.1,\"#c51b7d\"],[0.2,\"#de77ae\"],[0.3,\"#f1b6da\"],[0.4,\"#fde0ef\"],[0.5,\"#f7f7f7\"],[0.6,\"#e6f5d0\"],[0.7,\"#b8e186\"],[0.8,\"#7fbc41\"],[0.9,\"#4d9221\"],[1,\"#276419\"]]},\"xaxis\":{\"gridcolor\":\"white\",\"linecolor\":\"white\",\"ticks\":\"\",\"title\":{\"standoff\":15},\"zerolinecolor\":\"white\",\"automargin\":true,\"zerolinewidth\":2},\"yaxis\":{\"gridcolor\":\"white\",\"linecolor\":\"white\",\"ticks\":\"\",\"title\":{\"standoff\":15},\"zerolinecolor\":\"white\",\"automargin\":true,\"zerolinewidth\":2},\"scene\":{\"xaxis\":{\"backgroundcolor\":\"#E5ECF6\",\"gridcolor\":\"white\",\"linecolor\":\"white\",\"showbackground\":true,\"ticks\":\"\",\"zerolinecolor\":\"white\",\"gridwidth\":2},\"yaxis\":{\"backgroundcolor\":\"#E5ECF6\",\"gridcolor\":\"white\",\"linecolor\":\"white\",\"showbackground\":true,\"ticks\":\"\",\"zerolinecolor\":\"white\",\"gridwidth\":2},\"zaxis\":{\"backgroundcolor\":\"#E5ECF6\",\"gridcolor\":\"white\",\"linecolor\":\"white\",\"showbackground\":true,\"ticks\":\"\",\"zerolinecolor\":\"white\",\"gridwidth\":2}},\"shapedefaults\":{\"line\":{\"color\":\"#2a3f5f\"}},\"annotationdefaults\":{\"arrowcolor\":\"#2a3f5f\",\"arrowhead\":0,\"arrowwidth\":1},\"geo\":{\"bgcolor\":\"white\",\"landcolor\":\"#E5ECF6\",\"subunitcolor\":\"white\",\"showland\":true,\"showlakes\":true,\"lakecolor\":\"white\"},\"title\":{\"x\":0.05},\"mapbox\":{\"style\":\"light\"}}},\"xaxis\":{\"anchor\":\"y\",\"domain\":[0.0,1.0],\"title\":{\"text\":\"score\"}},\"yaxis\":{\"anchor\":\"x\",\"domain\":[0.0,1.0],\"title\":{\"text\":\"count\"}},\"legend\":{\"tracegroupgap\":0},\"margin\":{\"t\":60},\"barmode\":\"relative\",\"title\":{\"text\":\"Review Score\"}},                        {\"responsive\": true}                    ).then(function(){\n",
       "                            \n",
       "var gd = document.getElementById('cd7f1c18-0ec1-4348-81e4-f5323b4d18ab');\n",
       "var x = new MutationObserver(function (mutations, observer) {{\n",
       "        var display = window.getComputedStyle(gd).display;\n",
       "        if (!display || display === 'none') {{\n",
       "            console.log([gd, 'removed!']);\n",
       "            Plotly.purge(gd);\n",
       "            observer.disconnect();\n",
       "        }}\n",
       "}});\n",
       "\n",
       "// Listen for the removal of the full notebook cells\n",
       "var notebookContainer = gd.closest('#notebook-container');\n",
       "if (notebookContainer) {{\n",
       "    x.observe(notebookContainer, {childList: true});\n",
       "}}\n",
       "\n",
       "// Listen for the clearing of the current output cell\n",
       "var outputEl = gd.closest('.output');\n",
       "if (outputEl) {{\n",
       "    x.observe(outputEl, {childList: true});\n",
       "}}\n",
       "\n",
       "                        })                };                });            </script>        </div>"
      ]
     },
     "metadata": {},
     "output_type": "display_data"
    }
   ],
   "source": [
    "# Review Scores\n",
    "fig = px.histogram(data, x='score')\n",
    "fig.update_traces(marker_color='turquoise', marker_line_color='rgb(8,48,107)', marker_line_width=1.5)\n",
    "fig.update_layout(title_text='Review Score')\n",
    "fig.show()"
   ]
  },
  {
   "cell_type": "code",
   "execution_count": 6,
   "id": "07c3f6e5",
   "metadata": {
    "execution": {
     "iopub.execute_input": "2024-03-22T13:17:32.164295Z",
     "iopub.status.busy": "2024-03-22T13:17:32.163982Z",
     "iopub.status.idle": "2024-03-22T13:17:33.991888Z",
     "shell.execute_reply": "2024-03-22T13:17:33.990753Z"
    },
    "papermill": {
     "duration": 1.845728,
     "end_time": "2024-03-22T13:17:33.994854",
     "exception": false,
     "start_time": "2024-03-22T13:17:32.149126",
     "status": "completed"
    },
    "tags": []
   },
   "outputs": [
    {
     "data": {
      "text/plain": [
       "<function matplotlib.pyplot.show(close=None, block=None)>"
      ]
     },
     "execution_count": 6,
     "metadata": {},
     "output_type": "execute_result"
    },
    {
     "data": {
      "image/png": "[encoded data removed]",
      "text/plain": [
       "<Figure size 640x480 with 1 Axes>"
      ]
     },
     "metadata": {},
     "output_type": "display_data"
    }
   ],
   "source": [
    "#Creating some wordclouds to see the most frequently used words in the feedback\n",
    "import nltk\n",
    "from nltk.corpus import stopwords\n",
    "from wordcloud import WordCloud\n",
    "\n",
    "# Creating stopwords list\n",
    "stopwords = set(stopwords.words('english'))\n",
    "stopwords.update(['br','href'])\n",
    "textt = ' '.join(review for review in data.text)\n",
    "wordcloud = WordCloud(stopwords=stopwords).generate(textt)\n",
    "\n",
    "plt.imshow(wordcloud, interpolation='bilinear')\n",
    "plt.axis('off')\n",
    "plt.show"
   ]
  },
  {
   "cell_type": "code",
   "execution_count": 7,
   "id": "3c9c5dc0",
   "metadata": {
    "execution": {
     "iopub.execute_input": "2024-03-22T13:17:34.037027Z",
     "iopub.status.busy": "2024-03-22T13:17:34.036164Z",
     "iopub.status.idle": "2024-03-22T13:17:34.050051Z",
     "shell.execute_reply": "2024-03-22T13:17:34.048731Z"
    },
    "papermill": {
     "duration": 0.037434,
     "end_time": "2024-03-22T13:17:34.052712",
     "exception": false,
     "start_time": "2024-03-22T13:17:34.015278",
     "status": "completed"
    },
    "tags": []
   },
   "outputs": [],
   "source": [
    "#assign reviews with score greater than 3 as positive sentiment\n",
    "#assign reviews with score lesser than 3 as negative sentiment\n",
    "#remove score = 3\n",
    "data = data[data['score'] != 3]\n",
    "#data.loc[data['sentiment'] > 2, 'score'] = new_val\n",
    "data['sentiment'] = data['score'].apply(lambda rating : +1 if rating > 3 else -1)"
   ]
  },
  {
   "cell_type": "code",
   "execution_count": 8,
   "id": "370b0153",
   "metadata": {
    "execution": {
     "iopub.execute_input": "2024-03-22T13:17:34.084876Z",
     "iopub.status.busy": "2024-03-22T13:17:34.083556Z",
     "iopub.status.idle": "2024-03-22T13:17:34.097855Z",
     "shell.execute_reply": "2024-03-22T13:17:34.096957Z"
    },
    "papermill": {
     "duration": 0.031837,
     "end_time": "2024-03-22T13:17:34.099730",
     "exception": false,
     "start_time": "2024-03-22T13:17:34.067893",
     "status": "completed"
    },
    "tags": []
   },
   "outputs": [
    {
     "data": {
      "text/html": [
       "<div>\n",
       "<style scoped>\n",
       "    .dataframe tbody tr th:only-of-type {\n",
       "        vertical-align: middle;\n",
       "    }\n",
       "\n",
       "    .dataframe tbody tr th {\n",
       "        vertical-align: top;\n",
       "    }\n",
       "\n",
       "    .dataframe thead th {\n",
       "        text-align: right;\n",
       "    }\n",
       "</style>\n",
       "<table border=\"1\" class=\"dataframe\">\n",
       "  <thead>\n",
       "    <tr style=\"text-align: right;\">\n",
       "      <th></th>\n",
       "      <th>id</th>\n",
       "      <th>date</th>\n",
       "      <th>userName</th>\n",
       "      <th>userUrl</th>\n",
       "      <th>version</th>\n",
       "      <th>score</th>\n",
       "      <th>title</th>\n",
       "      <th>text</th>\n",
       "      <th>url</th>\n",
       "      <th>country</th>\n",
       "      <th>appId</th>\n",
       "      <th>sentiment</th>\n",
       "    </tr>\n",
       "  </thead>\n",
       "  <tbody>\n",
       "    <tr>\n",
       "      <th>0</th>\n",
       "      <td>10990027692</td>\n",
       "      <td>2024-02-28T13:15:16-07:00</td>\n",
       "      <td>a71209417cc69068db96287dcfa258e84a19b36c443521...</td>\n",
       "      <td>c6434d50f03dc3225343d08cb75b120e19dc21937007da...</td>\n",
       "      <td>24.4.78</td>\n",
       "      <td>1</td>\n",
       "      <td>Status sounds</td>\n",
       "      <td>No sound comes from status videos after I upda...</td>\n",
       "      <td>https://itunes.apple.com/au/review?id=13864129...</td>\n",
       "      <td>AU</td>\n",
       "      <td>1386412985</td>\n",
       "      <td>-1</td>\n",
       "    </tr>\n",
       "    <tr>\n",
       "      <th>1</th>\n",
       "      <td>10939311897</td>\n",
       "      <td>2024-02-14T14:47:02-07:00</td>\n",
       "      <td>9f7302dde70e971b057aa14cec1d26479a9362da32e9ed...</td>\n",
       "      <td>55105d432b1d6c664523f5de2576a199f8ffa8d8c20e8a...</td>\n",
       "      <td>24.3.76</td>\n",
       "      <td>2</td>\n",
       "      <td>Calls</td>\n",
       "      <td>Every time I’m on a phone call, it either cut ...</td>\n",
       "      <td>https://itunes.apple.com/au/review?id=13864129...</td>\n",
       "      <td>AU</td>\n",
       "      <td>1386412985</td>\n",
       "      <td>-1</td>\n",
       "    </tr>\n",
       "    <tr>\n",
       "      <th>2</th>\n",
       "      <td>10932303253</td>\n",
       "      <td>2024-02-12T15:54:56-07:00</td>\n",
       "      <td>ee939200223a21c2bdea5d17ef0ae2d9a03acfbb914c73...</td>\n",
       "      <td>1c044d9599692ebd0d50f4fb8d886f622ee02c549d76f8...</td>\n",
       "      <td>24.3.76</td>\n",
       "      <td>4</td>\n",
       "      <td>Recommendations</td>\n",
       "      <td>I like being to have a separate account/app fo...</td>\n",
       "      <td>https://itunes.apple.com/au/review?id=13864129...</td>\n",
       "      <td>AU</td>\n",
       "      <td>1386412985</td>\n",
       "      <td>1</td>\n",
       "    </tr>\n",
       "    <tr>\n",
       "      <th>3</th>\n",
       "      <td>10859859638</td>\n",
       "      <td>2024-01-24T12:47:22-07:00</td>\n",
       "      <td>10c5a49c9a79ddf4cd973abd6f125b5bf98d9e6cf22fbd...</td>\n",
       "      <td>f713d7f8bf1c1400a223d76013914de72a242f8113163a...</td>\n",
       "      <td>24.1.80</td>\n",
       "      <td>5</td>\n",
       "      <td>Subject: Request for Premium Features in Whats...</td>\n",
       "      <td>Dear WhatsApp Support Team,\\n\\nI hope this mes...</td>\n",
       "      <td>https://itunes.apple.com/au/review?id=13864129...</td>\n",
       "      <td>AU</td>\n",
       "      <td>1386412985</td>\n",
       "      <td>1</td>\n",
       "    </tr>\n",
       "    <tr>\n",
       "      <th>4</th>\n",
       "      <td>10758670982</td>\n",
       "      <td>2023-12-29T05:13:49-07:00</td>\n",
       "      <td>83481ba5686098a9f7b2b9e374dc5ed7a3627bcd5eb28f...</td>\n",
       "      <td>59528539b374bc7bc8941a2785953ba58da70690e9fdd8...</td>\n",
       "      <td>23.25.86</td>\n",
       "      <td>2</td>\n",
       "      <td>Not satisfied yet</td>\n",
       "      <td>Only seems like someone clicks on your ad when...</td>\n",
       "      <td>https://itunes.apple.com/au/review?id=13864129...</td>\n",
       "      <td>AU</td>\n",
       "      <td>1386412985</td>\n",
       "      <td>-1</td>\n",
       "    </tr>\n",
       "  </tbody>\n",
       "</table>\n",
       "</div>"
      ],
      "text/plain": [
       "            id                       date  \\\n",
       "0  10990027692  2024-02-28T13:15:16-07:00   \n",
       "1  10939311897  2024-02-14T14:47:02-07:00   \n",
       "2  10932303253  2024-02-12T15:54:56-07:00   \n",
       "3  10859859638  2024-01-24T12:47:22-07:00   \n",
       "4  10758670982  2023-12-29T05:13:49-07:00   \n",
       "\n",
       "                                            userName  \\\n",
       "0  a71209417cc69068db96287dcfa258e84a19b36c443521...   \n",
       "1  9f7302dde70e971b057aa14cec1d26479a9362da32e9ed...   \n",
       "2  ee939200223a21c2bdea5d17ef0ae2d9a03acfbb914c73...   \n",
       "3  10c5a49c9a79ddf4cd973abd6f125b5bf98d9e6cf22fbd...   \n",
       "4  83481ba5686098a9f7b2b9e374dc5ed7a3627bcd5eb28f...   \n",
       "\n",
       "                                             userUrl   version  score  \\\n",
       "0  c6434d50f03dc3225343d08cb75b120e19dc21937007da...   24.4.78      1   \n",
       "1  55105d432b1d6c664523f5de2576a199f8ffa8d8c20e8a...   24.3.76      2   \n",
       "2  1c044d9599692ebd0d50f4fb8d886f622ee02c549d76f8...   24.3.76      4   \n",
       "3  f713d7f8bf1c1400a223d76013914de72a242f8113163a...   24.1.80      5   \n",
       "4  59528539b374bc7bc8941a2785953ba58da70690e9fdd8...  23.25.86      2   \n",
       "\n",
       "                                               title  \\\n",
       "0                                      Status sounds   \n",
       "1                                              Calls   \n",
       "2                                    Recommendations   \n",
       "3  Subject: Request for Premium Features in Whats...   \n",
       "4                                  Not satisfied yet   \n",
       "\n",
       "                                                text  \\\n",
       "0  No sound comes from status videos after I upda...   \n",
       "1  Every time I’m on a phone call, it either cut ...   \n",
       "2  I like being to have a separate account/app fo...   \n",
       "3  Dear WhatsApp Support Team,\\n\\nI hope this mes...   \n",
       "4  Only seems like someone clicks on your ad when...   \n",
       "\n",
       "                                                 url country       appId  \\\n",
       "0  https://itunes.apple.com/au/review?id=13864129...      AU  1386412985   \n",
       "1  https://itunes.apple.com/au/review?id=13864129...      AU  1386412985   \n",
       "2  https://itunes.apple.com/au/review?id=13864129...      AU  1386412985   \n",
       "3  https://itunes.apple.com/au/review?id=13864129...      AU  1386412985   \n",
       "4  https://itunes.apple.com/au/review?id=13864129...      AU  1386412985   \n",
       "\n",
       "   sentiment  \n",
       "0         -1  \n",
       "1         -1  \n",
       "2          1  \n",
       "3          1  \n",
       "4         -1  "
      ]
     },
     "execution_count": 8,
     "metadata": {},
     "output_type": "execute_result"
    }
   ],
   "source": [
    "data.head()"
   ]
  },
  {
   "cell_type": "code",
   "execution_count": 9,
   "id": "8fa60816",
   "metadata": {
    "execution": {
     "iopub.execute_input": "2024-03-22T13:17:34.131037Z",
     "iopub.status.busy": "2024-03-22T13:17:34.130503Z",
     "iopub.status.idle": "2024-03-22T13:17:34.139245Z",
     "shell.execute_reply": "2024-03-22T13:17:34.138218Z"
    },
    "papermill": {
     "duration": 0.02711,
     "end_time": "2024-03-22T13:17:34.141526",
     "exception": false,
     "start_time": "2024-03-22T13:17:34.114416",
     "status": "completed"
    },
    "tags": []
   },
   "outputs": [],
   "source": [
    "#split data into positive and negative sentiment:\n",
    "positive = data[data['sentiment'] == 1]\n",
    "negative = data[data['sentiment'] == -1]\n"
   ]
  },
  {
   "cell_type": "code",
   "execution_count": 10,
   "id": "55d560c8",
   "metadata": {
    "execution": {
     "iopub.execute_input": "2024-03-22T13:17:34.173365Z",
     "iopub.status.busy": "2024-03-22T13:17:34.172829Z",
     "iopub.status.idle": "2024-03-22T13:17:34.179596Z",
     "shell.execute_reply": "2024-03-22T13:17:34.178554Z"
    },
    "papermill": {
     "duration": 0.025205,
     "end_time": "2024-03-22T13:17:34.181744",
     "exception": false,
     "start_time": "2024-03-22T13:17:34.156539",
     "status": "completed"
    },
    "tags": []
   },
   "outputs": [],
   "source": [
    "positive = positive.dropna()\n",
    "negative = negative.dropna()"
   ]
  },
  {
   "cell_type": "code",
   "execution_count": 11,
   "id": "9bc23cf6",
   "metadata": {
    "execution": {
     "iopub.execute_input": "2024-03-22T13:17:34.214136Z",
     "iopub.status.busy": "2024-03-22T13:17:34.213597Z",
     "iopub.status.idle": "2024-03-22T13:17:34.606563Z",
     "shell.execute_reply": "2024-03-22T13:17:34.605808Z"
    },
    "papermill": {
     "duration": 0.412587,
     "end_time": "2024-03-22T13:17:34.609474",
     "exception": false,
     "start_time": "2024-03-22T13:17:34.196887",
     "status": "completed"
    },
    "tags": []
   },
   "outputs": [
    {
     "data": {
      "image/png": "[encoded data removed]",
      "text/plain": [
       "<Figure size 640x480 with 1 Axes>"
      ]
     },
     "metadata": {},
     "output_type": "display_data"
    }
   ],
   "source": [
    "#WordCloud Positive Sentiment\n",
    "import nltk\n",
    "from nltk.corpus import stopwords\n",
    "\n",
    "stopwords = set(stopwords.words('english'))\n",
    "stopwords.update(['br','stuff', 'href', 'good','Thank', 'like'])\n",
    "\n",
    "pos = ' '.join(review for review in positive.title)\n",
    "wordcloud = WordCloud(stopwords=stopwords).generate(pos)\n",
    "plt.imshow(wordcloud, interpolation='bilinear')\n",
    "plt.axis('off')\n",
    "plt.show()"
   ]
  },
  {
   "cell_type": "code",
   "execution_count": 12,
   "id": "6a3309ed",
   "metadata": {
    "execution": {
     "iopub.execute_input": "2024-03-22T13:17:34.658813Z",
     "iopub.status.busy": "2024-03-22T13:17:34.658162Z",
     "iopub.status.idle": "2024-03-22T13:17:35.052036Z",
     "shell.execute_reply": "2024-03-22T13:17:35.051327Z"
    },
    "papermill": {
     "duration": 0.423755,
     "end_time": "2024-03-22T13:17:35.055183",
     "exception": false,
     "start_time": "2024-03-22T13:17:34.631428",
     "status": "completed"
    },
    "tags": []
   },
   "outputs": [
    {
     "data": {
      "image/png": "[encoded data removed]",
      "text/plain": [
       "<Figure size 640x480 with 1 Axes>"
      ]
     },
     "metadata": {},
     "output_type": "display_data"
    }
   ],
   "source": [
    "#WordCloud Negative Sentiment\n",
    "import nltk\n",
    "from nltk.corpus import stopwords\n",
    "\n",
    "stopwords = set(stopwords.words('english'))\n",
    "stopwords.update(['br','stuff', 'href', 'good','Thank', 'like'])\n",
    "\n",
    "pos = ' '.join(review for review in negative.title)\n",
    "wordcloud = WordCloud(stopwords=stopwords).generate(pos)\n",
    "plt.imshow(wordcloud, interpolation='bilinear')\n",
    "plt.axis('off')\n",
    "plt.show()"
   ]
  },
  {
   "cell_type": "code",
   "execution_count": 13,
   "id": "a84c3cb8",
   "metadata": {
    "execution": {
     "iopub.execute_input": "2024-03-22T13:17:35.106249Z",
     "iopub.status.busy": "2024-03-22T13:17:35.105552Z",
     "iopub.status.idle": "2024-03-22T13:17:35.167081Z",
     "shell.execute_reply": "2024-03-22T13:17:35.165693Z"
    },
    "papermill": {
     "duration": 0.089823,
     "end_time": "2024-03-22T13:17:35.169350",
     "exception": false,
     "start_time": "2024-03-22T13:17:35.079527",
     "status": "completed"
    },
    "tags": []
   },
   "outputs": [
    {
     "data": {
      "text/plain": [
       "<bound method BaseFigure.show of Figure({\n",
       "    'data': [{'alignmentgroup': 'True',\n",
       "              'bingroup': 'x',\n",
       "              'hovertemplate': 'sentiments=%{x}<br>count=%{y}<extra></extra>',\n",
       "              'legendgroup': '',\n",
       "              'marker': {'color': 'indianred', 'line': {'color': 'rgb(8,48,107)', 'width': 1.5}, 'pattern': {'shape': ''}},\n",
       "              'name': '',\n",
       "              'offsetgroup': '',\n",
       "              'orientation': 'v',\n",
       "              'showlegend': False,\n",
       "              'type': 'histogram',\n",
       "              'x': array([-1, -1, 'positive', ..., 'positive', -1, -1], dtype=object),\n",
       "              'xaxis': 'x',\n",
       "              'yaxis': 'y'}],\n",
       "    'layout': {'barmode': 'relative',\n",
       "               'legend': {'tracegroupgap': 0},\n",
       "               'margin': {'t': 60},\n",
       "               'template': '...',\n",
       "               'title': {'text': 'Review Sentiment'},\n",
       "               'xaxis': {'anchor': 'y', 'domain': [0.0, 1.0], 'title': {'text': 'sentiments'}},\n",
       "               'yaxis': {'anchor': 'x', 'domain': [0.0, 1.0], 'title': {'text': 'count'}}}\n",
       "})>"
      ]
     },
     "execution_count": 13,
     "metadata": {},
     "output_type": "execute_result"
    }
   ],
   "source": [
    "# Distribution of reviews with sentiment across the dataset\n",
    "data['sentiments'] = data['sentiment'].replace({-1 : 'negative'})\n",
    "data['sentiments'] = data['sentiment'].replace({1 : 'positive'})\n",
    "\n",
    "fig = px.histogram(data, x='sentiments')\n",
    "fig.update_traces(marker_color='indianred', marker_line_color='rgb(8,48,107)',\n",
    "                 marker_line_width=1.5)\n",
    "fig.update_layout(title_text='Review Sentiment')\n",
    "fig.show\n"
   ]
  },
  {
   "cell_type": "code",
   "execution_count": 14,
   "id": "d752c589",
   "metadata": {
    "execution": {
     "iopub.execute_input": "2024-03-22T13:17:35.209066Z",
     "iopub.status.busy": "2024-03-22T13:17:35.208712Z",
     "iopub.status.idle": "2024-03-22T13:17:35.252367Z",
     "shell.execute_reply": "2024-03-22T13:17:35.251320Z"
    },
    "papermill": {
     "duration": 0.06713,
     "end_time": "2024-03-22T13:17:35.254711",
     "exception": false,
     "start_time": "2024-03-22T13:17:35.187581",
     "status": "completed"
    },
    "tags": []
   },
   "outputs": [],
   "source": [
    "# Building the model\n",
    "# Step 1: Data Cleaning\n",
    "def remove_punctuation(text):\n",
    "    final = ' '.join(u for u in text if u not in('?', '.', ';', ':', '!', \"'\"))\n",
    "    return final\n",
    "data['text'] = data['text'].apply(remove_punctuation)\n",
    "data = data.dropna(subset=['title'])\n",
    "data['title'] = data['title'].apply(remove_punctuation)"
   ]
  },
  {
   "cell_type": "code",
   "execution_count": 15,
   "id": "867ba6c2",
   "metadata": {
    "execution": {
     "iopub.execute_input": "2024-03-22T13:17:35.293830Z",
     "iopub.status.busy": "2024-03-22T13:17:35.293023Z",
     "iopub.status.idle": "2024-03-22T13:17:35.302264Z",
     "shell.execute_reply": "2024-03-22T13:17:35.301407Z"
    },
    "papermill": {
     "duration": 0.030885,
     "end_time": "2024-03-22T13:17:35.303783",
     "exception": false,
     "start_time": "2024-03-22T13:17:35.272898",
     "status": "completed"
    },
    "tags": []
   },
   "outputs": [
    {
     "data": {
      "text/html": [
       "<div>\n",
       "<style scoped>\n",
       "    .dataframe tbody tr th:only-of-type {\n",
       "        vertical-align: middle;\n",
       "    }\n",
       "\n",
       "    .dataframe tbody tr th {\n",
       "        vertical-align: top;\n",
       "    }\n",
       "\n",
       "    .dataframe thead th {\n",
       "        text-align: right;\n",
       "    }\n",
       "</style>\n",
       "<table border=\"1\" class=\"dataframe\">\n",
       "  <thead>\n",
       "    <tr style=\"text-align: right;\">\n",
       "      <th></th>\n",
       "      <th>title</th>\n",
       "      <th>sentiment</th>\n",
       "    </tr>\n",
       "  </thead>\n",
       "  <tbody>\n",
       "    <tr>\n",
       "      <th>0</th>\n",
       "      <td>S t a t u s   s o u n d s</td>\n",
       "      <td>-1</td>\n",
       "    </tr>\n",
       "    <tr>\n",
       "      <th>1</th>\n",
       "      <td>C a l l s</td>\n",
       "      <td>-1</td>\n",
       "    </tr>\n",
       "    <tr>\n",
       "      <th>2</th>\n",
       "      <td>R e c o m m e n d a t i o n s</td>\n",
       "      <td>1</td>\n",
       "    </tr>\n",
       "    <tr>\n",
       "      <th>3</th>\n",
       "      <td>S u b j e c t   R e q u e s t   f o r   P r e ...</td>\n",
       "      <td>1</td>\n",
       "    </tr>\n",
       "    <tr>\n",
       "      <th>4</th>\n",
       "      <td>N o t   s a t i s f i e d   y e t</td>\n",
       "      <td>-1</td>\n",
       "    </tr>\n",
       "  </tbody>\n",
       "</table>\n",
       "</div>"
      ],
      "text/plain": [
       "                                               title  sentiment\n",
       "0                          S t a t u s   s o u n d s         -1\n",
       "1                                          C a l l s         -1\n",
       "2                      R e c o m m e n d a t i o n s          1\n",
       "3  S u b j e c t   R e q u e s t   f o r   P r e ...          1\n",
       "4                  N o t   s a t i s f i e d   y e t         -1"
      ]
     },
     "execution_count": 15,
     "metadata": {},
     "output_type": "execute_result"
    }
   ],
   "source": [
    "dataNew = data[['title','sentiment']]\n",
    "dataNew.head()"
   ]
  },
  {
   "cell_type": "code",
   "execution_count": 16,
   "id": "b0f99359",
   "metadata": {
    "execution": {
     "iopub.execute_input": "2024-03-22T13:17:35.340316Z",
     "iopub.status.busy": "2024-03-22T13:17:35.339981Z",
     "iopub.status.idle": "2024-03-22T13:17:35.348608Z",
     "shell.execute_reply": "2024-03-22T13:17:35.347267Z"
    },
    "papermill": {
     "duration": 0.02977,
     "end_time": "2024-03-22T13:17:35.351025",
     "exception": false,
     "start_time": "2024-03-22T13:17:35.321255",
     "status": "completed"
    },
    "tags": []
   },
   "outputs": [],
   "source": [
    "# Splitting the data frame into train and test sets\n",
    "index = data.index\n",
    "data['random_number'] = np.random.randn(len(index))\n",
    "train = data[data['random_number'] <= 0.8]\n",
    "test = data[data['random_number'] > 0.8]"
   ]
  },
  {
   "cell_type": "code",
   "execution_count": 17,
   "id": "eba0caaf",
   "metadata": {
    "execution": {
     "iopub.execute_input": "2024-03-22T13:17:35.390372Z",
     "iopub.status.busy": "2024-03-22T13:17:35.390038Z",
     "iopub.status.idle": "2024-03-22T13:17:35.420438Z",
     "shell.execute_reply": "2024-03-22T13:17:35.419096Z"
    },
    "papermill": {
     "duration": 0.052803,
     "end_time": "2024-03-22T13:17:35.422882",
     "exception": false,
     "start_time": "2024-03-22T13:17:35.370079",
     "status": "completed"
    },
    "tags": []
   },
   "outputs": [],
   "source": [
    "#Count Vectorizer:\n",
    "from sklearn.feature_extraction.text import CountVectorizer\n",
    "vectorizer = CountVectorizer(token_pattern=r'\\b\\w+\\b')\n",
    "train_matrix = vectorizer.fit_transform(train['title'])\n",
    "test_matrix = vectorizer.transform(test['title'])\n"
   ]
  },
  {
   "cell_type": "code",
   "execution_count": 18,
   "id": "f6a5379d",
   "metadata": {
    "execution": {
     "iopub.execute_input": "2024-03-22T13:17:35.462121Z",
     "iopub.status.busy": "2024-03-22T13:17:35.461772Z",
     "iopub.status.idle": "2024-03-22T13:17:35.466577Z",
     "shell.execute_reply": "2024-03-22T13:17:35.465154Z"
    },
    "papermill": {
     "duration": 0.027458,
     "end_time": "2024-03-22T13:17:35.469024",
     "exception": false,
     "start_time": "2024-03-22T13:17:35.441566",
     "status": "completed"
    },
    "tags": []
   },
   "outputs": [],
   "source": [
    "#Import Logic Regression\n",
    "from sklearn.linear_model import LogisticRegression\n",
    "lr = LogisticRegression(solver = 'lbfgs', max_iter=6000)"
   ]
  },
  {
   "cell_type": "code",
   "execution_count": 19,
   "id": "c4e08b11",
   "metadata": {
    "execution": {
     "iopub.execute_input": "2024-03-22T13:17:35.507818Z",
     "iopub.status.busy": "2024-03-22T13:17:35.507461Z",
     "iopub.status.idle": "2024-03-22T13:17:35.512032Z",
     "shell.execute_reply": "2024-03-22T13:17:35.511043Z"
    },
    "papermill": {
     "duration": 0.026741,
     "end_time": "2024-03-22T13:17:35.514267",
     "exception": false,
     "start_time": "2024-03-22T13:17:35.487526",
     "status": "completed"
    },
    "tags": []
   },
   "outputs": [],
   "source": [
    "#split target and independent variables\n",
    "X_train = train_matrix\n",
    "X_test = test_matrix\n",
    "y_train = train['sentiment']\n",
    "y_test = test['sentiment']"
   ]
  },
  {
   "cell_type": "code",
   "execution_count": 20,
   "id": "38b61329",
   "metadata": {
    "execution": {
     "iopub.execute_input": "2024-03-22T13:17:35.554099Z",
     "iopub.status.busy": "2024-03-22T13:17:35.553316Z",
     "iopub.status.idle": "2024-03-22T13:17:35.566930Z",
     "shell.execute_reply": "2024-03-22T13:17:35.565549Z"
    },
    "papermill": {
     "duration": 0.036109,
     "end_time": "2024-03-22T13:17:35.569451",
     "exception": false,
     "start_time": "2024-03-22T13:17:35.533342",
     "status": "completed"
    },
    "tags": []
   },
   "outputs": [],
   "source": [
    "#Feature Scaling\n",
    "from sklearn.preprocessing import StandardScaler\n",
    "scaler = StandardScaler(with_mean = False)\n",
    "X_train = scaler.fit_transform(X_train)\n",
    "X_test = scaler.transform(X_test)"
   ]
  },
  {
   "cell_type": "code",
   "execution_count": 21,
   "id": "f3eb472b",
   "metadata": {
    "execution": {
     "iopub.execute_input": "2024-03-22T13:17:35.608674Z",
     "iopub.status.busy": "2024-03-22T13:17:35.608282Z",
     "iopub.status.idle": "2024-03-22T13:17:35.658769Z",
     "shell.execute_reply": "2024-03-22T13:17:35.657535Z"
    },
    "papermill": {
     "duration": 0.072454,
     "end_time": "2024-03-22T13:17:35.660973",
     "exception": false,
     "start_time": "2024-03-22T13:17:35.588519",
     "status": "completed"
    },
    "tags": []
   },
   "outputs": [
    {
     "data": {
      "text/html": [
       "<style>#sk-container-id-1 {color: black;background-color: white;}#sk-container-id-1 pre{padding: 0;}#sk-container-id-1 div.sk-toggleable {background-color: white;}#sk-container-id-1 label.sk-toggleable__label {cursor: pointer;display: block;width: 100%;margin-bottom: 0;padding: 0.3em;box-sizing: border-box;text-align: center;}#sk-container-id-1 label.sk-toggleable__label-arrow:before {content: \"▸\";float: left;margin-right: 0.25em;color: #696969;}#sk-container-id-1 label.sk-toggleable__label-arrow:hover:before {color: black;}#sk-container-id-1 div.sk-estimator:hover label.sk-toggleable__label-arrow:before {color: black;}#sk-container-id-1 div.sk-toggleable__content {max-height: 0;max-width: 0;overflow: hidden;text-align: left;background-color: #f0f8ff;}#sk-container-id-1 div.sk-toggleable__content pre {margin: 0.2em;color: black;border-radius: 0.25em;background-color: #f0f8ff;}#sk-container-id-1 input.sk-toggleable__control:checked~div.sk-toggleable__content {max-height: 200px;max-width: 100%;overflow: auto;}#sk-container-id-1 input.sk-toggleable__control:checked~label.sk-toggleable__label-arrow:before {content: \"▾\";}#sk-container-id-1 div.sk-estimator input.sk-toggleable__control:checked~label.sk-toggleable__label {background-color: #d4ebff;}#sk-container-id-1 div.sk-label input.sk-toggleable__control:checked~label.sk-toggleable__label {background-color: #d4ebff;}#sk-container-id-1 input.sk-hidden--visually {border: 0;clip: rect(1px 1px 1px 1px);clip: rect(1px, 1px, 1px, 1px);height: 1px;margin: -1px;overflow: hidden;padding: 0;position: absolute;width: 1px;}#sk-container-id-1 div.sk-estimator {font-family: monospace;background-color: #f0f8ff;border: 1px dotted black;border-radius: 0.25em;box-sizing: border-box;margin-bottom: 0.5em;}#sk-container-id-1 div.sk-estimator:hover {background-color: #d4ebff;}#sk-container-id-1 div.sk-parallel-item::after {content: \"\";width: 100%;border-bottom: 1px solid gray;flex-grow: 1;}#sk-container-id-1 div.sk-label:hover label.sk-toggleable__label {background-color: #d4ebff;}#sk-container-id-1 div.sk-serial::before {content: \"\";position: absolute;border-left: 1px solid gray;box-sizing: border-box;top: 0;bottom: 0;left: 50%;z-index: 0;}#sk-container-id-1 div.sk-serial {display: flex;flex-direction: column;align-items: center;background-color: white;padding-right: 0.2em;padding-left: 0.2em;position: relative;}#sk-container-id-1 div.sk-item {position: relative;z-index: 1;}#sk-container-id-1 div.sk-parallel {display: flex;align-items: stretch;justify-content: center;background-color: white;position: relative;}#sk-container-id-1 div.sk-item::before, #sk-container-id-1 div.sk-parallel-item::before {content: \"\";position: absolute;border-left: 1px solid gray;box-sizing: border-box;top: 0;bottom: 0;left: 50%;z-index: -1;}#sk-container-id-1 div.sk-parallel-item {display: flex;flex-direction: column;z-index: 1;position: relative;background-color: white;}#sk-container-id-1 div.sk-parallel-item:first-child::after {align-self: flex-end;width: 50%;}#sk-container-id-1 div.sk-parallel-item:last-child::after {align-self: flex-start;width: 50%;}#sk-container-id-1 div.sk-parallel-item:only-child::after {width: 0;}#sk-container-id-1 div.sk-dashed-wrapped {border: 1px dashed gray;margin: 0 0.4em 0.5em 0.4em;box-sizing: border-box;padding-bottom: 0.4em;background-color: white;}#sk-container-id-1 div.sk-label label {font-family: monospace;font-weight: bold;display: inline-block;line-height: 1.2em;}#sk-container-id-1 div.sk-label-container {text-align: center;}#sk-container-id-1 div.sk-container {/* jupyter's `normalize.less` sets `[hidden] { display: none; }` but bootstrap.min.css set `[hidden] { display: none !important; }` so we also need the `!important` here to be able to override the default hidden behavior on the sphinx rendered scikit-learn.org. See: https://github.com/scikit-learn/scikit-learn/issues/21755 */display: inline-block !important;position: relative;}#sk-container-id-1 div.sk-text-repr-fallback {display: none;}</style><div id=\"sk-container-id-1\" class=\"sk-top-container\"><div class=\"sk-text-repr-fallback\"><pre>LogisticRegression(max_iter=6000)</pre><b>In a Jupyter environment, please rerun this cell to show the HTML representation or trust the notebook. <br />On GitHub, the HTML representation is unable to render, please try loading this page with nbviewer.org.</b></div><div class=\"sk-container\" hidden><div class=\"sk-item\"><div class=\"sk-estimator sk-toggleable\"><input class=\"sk-toggleable__control sk-hidden--visually\" id=\"sk-estimator-id-1\" type=\"checkbox\" checked><label for=\"sk-estimator-id-1\" class=\"sk-toggleable__label sk-toggleable__label-arrow\">LogisticRegression</label><div class=\"sk-toggleable__content\"><pre>LogisticRegression(max_iter=6000)</pre></div></div></div></div></div>"
      ],
      "text/plain": [
       "LogisticRegression(max_iter=6000)"
      ]
     },
     "execution_count": 21,
     "metadata": {},
     "output_type": "execute_result"
    }
   ],
   "source": [
    "#Fitting Model on Data\n",
    "lr.fit(X_train, y_train)"
   ]
  },
  {
   "cell_type": "code",
   "execution_count": 22,
   "id": "1c734381",
   "metadata": {
    "execution": {
     "iopub.execute_input": "2024-03-22T13:17:35.698884Z",
     "iopub.status.busy": "2024-03-22T13:17:35.698567Z",
     "iopub.status.idle": "2024-03-22T13:17:35.705650Z",
     "shell.execute_reply": "2024-03-22T13:17:35.704295Z"
    },
    "papermill": {
     "duration": 0.028875,
     "end_time": "2024-03-22T13:17:35.707954",
     "exception": false,
     "start_time": "2024-03-22T13:17:35.679079",
     "status": "completed"
    },
    "tags": []
   },
   "outputs": [
    {
     "name": "stdout",
     "output_type": "stream",
     "text": [
      "[ 1  1 -1 -1  1 -1  1  1  1  1  1 -1  1 -1  1  1 -1 -1 -1 -1  1  1  1  1\n",
      " -1  1 -1 -1 -1 -1 -1  1 -1 -1  1 -1  1 -1  1  1  1  1  1 -1  1 -1  1  1\n",
      "  1  1  1  1  1 -1 -1 -1 -1 -1  1  1 -1  1  1  1  1  1  1  1  1 -1  1  1\n",
      "  1 -1  1 -1  1 -1  1 -1 -1 -1 -1  1  1  1  1  1  1  1  1  1 -1  1  1  1\n",
      " -1  1  1  1 -1  1  1  1  1  1  1  1  1  1  1  1  1 -1 -1  1  1  1  1  1\n",
      "  1  1 -1  1  1 -1 -1  1  1  1  1  1  1 -1  1  1  1 -1  1 -1  1  1  1 -1\n",
      " -1  1  1  1  1 -1 -1  1  1  1 -1  1  1  1 -1  1 -1  1 -1  1 -1  1  1 -1\n",
      " -1  1  1 -1  1  1  1  1  1 -1 -1 -1  1  1 -1  1  1  1 -1  1  1  1  1 -1\n",
      "  1  1  1  1  1 -1  1  1  1  1  1 -1  1 -1  1  1  1 -1 -1  1  1  1  1  1\n",
      "  1  1  1  1  1  1 -1  1  1  1  1  1  1  1 -1  1  1  1  1  1  1 -1 -1  1\n",
      "  1 -1  1 -1  1 -1  1  1  1  1 -1  1 -1 -1 -1 -1  1  1  1 -1  1  1 -1  1\n",
      "  1  1 -1  1  1  1  1  1  1  1  1]\n"
     ]
    }
   ],
   "source": [
    "#Make Predictions\n",
    "predictions = lr.predict(X_test)\n",
    "print(predictions)"
   ]
  },
  {
   "cell_type": "code",
   "execution_count": 23,
   "id": "fa2c9c9e",
   "metadata": {
    "execution": {
     "iopub.execute_input": "2024-03-22T13:17:35.746796Z",
     "iopub.status.busy": "2024-03-22T13:17:35.746424Z",
     "iopub.status.idle": "2024-03-22T13:17:35.756963Z",
     "shell.execute_reply": "2024-03-22T13:17:35.755618Z"
    },
    "papermill": {
     "duration": 0.032979,
     "end_time": "2024-03-22T13:17:35.759333",
     "exception": false,
     "start_time": "2024-03-22T13:17:35.726354",
     "status": "completed"
    },
    "tags": []
   },
   "outputs": [
    {
     "data": {
      "text/plain": [
       "array([[ 47,  37],\n",
       "       [ 73, 118]])"
      ]
     },
     "execution_count": 23,
     "metadata": {},
     "output_type": "execute_result"
    }
   ],
   "source": [
    "# Testing the accuracy of the model\n",
    "from sklearn.metrics import confusion_matrix, classification_report\n",
    "new = np.asarray(y_test)\n",
    "confusion_matrix(predictions, y_test)"
   ]
  },
  {
   "cell_type": "code",
   "execution_count": 24,
   "id": "4f7234ed",
   "metadata": {
    "execution": {
     "iopub.execute_input": "2024-03-22T13:17:35.798715Z",
     "iopub.status.busy": "2024-03-22T13:17:35.798332Z",
     "iopub.status.idle": "2024-03-22T13:17:35.813061Z",
     "shell.execute_reply": "2024-03-22T13:17:35.811815Z"
    },
    "papermill": {
     "duration": 0.037156,
     "end_time": "2024-03-22T13:17:35.815169",
     "exception": false,
     "start_time": "2024-03-22T13:17:35.778013",
     "status": "completed"
    },
    "tags": []
   },
   "outputs": [
    {
     "name": "stdout",
     "output_type": "stream",
     "text": [
      "              precision    recall  f1-score   support\n",
      "\n",
      "          -1       0.39      0.56      0.46        84\n",
      "           1       0.76      0.62      0.68       191\n",
      "\n",
      "    accuracy                           0.60       275\n",
      "   macro avg       0.58      0.59      0.57       275\n",
      "weighted avg       0.65      0.60      0.61       275\n",
      "\n"
     ]
    }
   ],
   "source": [
    "print(classification_report(predictions, y_test))"
   ]
  }
 ],
 "metadata": {
  "kaggle": {
   "accelerator": "none",
   "dataSources": [
    {
     "datasetId": 4569798,
     "sourceId": 7804612,
     "sourceType": "datasetVersion"
    },
    {
     "datasetId": 4540583,
     "sourceId": 7763359,
     "sourceType": "datasetVersion"
    },
    {
     "datasetId": 4476093,
     "sourceId": 7673611,
     "sourceType": "datasetVersion"
    },
    {
     "datasetId": 248604,
     "sourceId": 523227,
     "sourceType": "datasetVersion"
    }
   ],
   "dockerImageVersionId": 30673,
   "isGpuEnabled": false,
   "isInternetEnabled": true,
   "language": "python",
   "sourceType": "notebook"
  },
  "kernelspec": {
   "display_name": "Python 3",
   "language": "python",
   "name": "python3"
  },
  "language_info": {
   "codemirror_mode": {
    "name": "ipython",
    "version": 3
   },
   "file_extension": ".py",
   "mimetype": "text/x-python",
   "name": "python",
   "nbconvert_exporter": "python",
   "pygments_lexer": "ipython3",
   "version": "3.12.0"
  },
  "papermill": {
   "default_parameters": {},
   "duration": 12.343872,
   "end_time": "2024-03-22T13:17:36.555113",
   "environment_variables": {},
   "exception": null,
   "input_path": "__notebook__.ipynb",
   "output_path": "__notebook__.ipynb",
   "parameters": {},
   "start_time": "2024-03-22T13:17:24.211241",
   "version": "2.5.0"
  }
 },
 "nbformat": 4,
 "nbformat_minor": 5
}
